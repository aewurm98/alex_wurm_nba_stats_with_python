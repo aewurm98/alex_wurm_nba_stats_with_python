{
 "cells": [
  {
   "cell_type": "markdown",
   "metadata": {},
   "source": [
    "Scraping ESPN NBA Rosters (https://www.espn.com/nba/teams)\n",
    "\n",
    "Credit to Erick Lu for some ideas in a similar project back in 2020 (https://erilu.github.io/web-scraping-NBA-statistics/)"
   ]
  },
  {
   "cell_type": "code",
   "execution_count": 30,
   "metadata": {},
   "outputs": [],
   "source": [
    "# import packages to allow regex handling of url subdirectories\n",
    "\n",
    "import re\n",
    "import urllib\n",
    "from time import sleep"
   ]
  },
  {
   "cell_type": "code",
   "execution_count": 31,
   "metadata": {},
   "outputs": [],
   "source": [
    "# create function to compile list of all team roster urls\n",
    "\n",
    "def scrape_roster_urls():\n",
    "    # use regex to find all html on ESPN's NBA teams page that points to the teams' rosters\n",
    "    f = urllib.request.urlopen('http://www.espn.com/nba/teams')\n",
    "    teams_content = f.read().decode('utf-8')\n",
    "    teams_list = dict(re.findall(\"\\\"/nba/team/roster/_/name/(\\w+)/(.+?)\\\"\", teams_content))\n",
    "\n",
    "    # generate array of urls to scrape\n",
    "    roster_urls = []\n",
    "    for key in teams_list.keys():\n",
    "        roster_urls.append('https://www.espn.com/nba/team/roster/_/name/' + key + '/' + teams_list[key])\n",
    "        teams_list[key] = str(teams_list[key])\n",
    "    return dict(zip(teams_list.values(),roster_urls))"
   ]
  },
  {
   "cell_type": "code",
   "execution_count": 32,
   "metadata": {},
   "outputs": [
    {
     "data": {
      "text/plain": [
       "{'boston-celtics': 'https://www.espn.com/nba/team/roster/_/name/bos/boston-celtics',\n",
       " 'brooklyn-nets': 'https://www.espn.com/nba/team/roster/_/name/bkn/brooklyn-nets',\n",
       " 'new-york-knicks': 'https://www.espn.com/nba/team/roster/_/name/ny/new-york-knicks',\n",
       " 'philadelphia-76ers': 'https://www.espn.com/nba/team/roster/_/name/phi/philadelphia-76ers',\n",
       " 'toronto-raptors': 'https://www.espn.com/nba/team/roster/_/name/tor/toronto-raptors',\n",
       " 'chicago-bulls': 'https://www.espn.com/nba/team/roster/_/name/chi/chicago-bulls',\n",
       " 'cleveland-cavaliers': 'https://www.espn.com/nba/team/roster/_/name/cle/cleveland-cavaliers',\n",
       " 'detroit-pistons': 'https://www.espn.com/nba/team/roster/_/name/det/detroit-pistons',\n",
       " 'indiana-pacers': 'https://www.espn.com/nba/team/roster/_/name/ind/indiana-pacers',\n",
       " 'milwaukee-bucks': 'https://www.espn.com/nba/team/roster/_/name/mil/milwaukee-bucks',\n",
       " 'denver-nuggets': 'https://www.espn.com/nba/team/roster/_/name/den/denver-nuggets',\n",
       " 'minnesota-timberwolves': 'https://www.espn.com/nba/team/roster/_/name/min/minnesota-timberwolves',\n",
       " 'oklahoma-city-thunder': 'https://www.espn.com/nba/team/roster/_/name/okc/oklahoma-city-thunder',\n",
       " 'portland-trail-blazers': 'https://www.espn.com/nba/team/roster/_/name/por/portland-trail-blazers',\n",
       " 'utah-jazz': 'https://www.espn.com/nba/team/roster/_/name/utah/utah-jazz',\n",
       " 'golden-state-warriors': 'https://www.espn.com/nba/team/roster/_/name/gs/golden-state-warriors',\n",
       " 'la-clippers': 'https://www.espn.com/nba/team/roster/_/name/lac/la-clippers',\n",
       " 'los-angeles-lakers': 'https://www.espn.com/nba/team/roster/_/name/lal/los-angeles-lakers',\n",
       " 'phoenix-suns': 'https://www.espn.com/nba/team/roster/_/name/phx/phoenix-suns',\n",
       " 'sacramento-kings': 'https://www.espn.com/nba/team/roster/_/name/sac/sacramento-kings',\n",
       " 'atlanta-hawks': 'https://www.espn.com/nba/team/roster/_/name/atl/atlanta-hawks',\n",
       " 'charlotte-hornets': 'https://www.espn.com/nba/team/roster/_/name/cha/charlotte-hornets',\n",
       " 'miami-heat': 'https://www.espn.com/nba/team/roster/_/name/mia/miami-heat',\n",
       " 'orlando-magic': 'https://www.espn.com/nba/team/roster/_/name/orl/orlando-magic',\n",
       " 'washington-wizards': 'https://www.espn.com/nba/team/roster/_/name/wsh/washington-wizards',\n",
       " 'dallas-mavericks': 'https://www.espn.com/nba/team/roster/_/name/dal/dallas-mavericks',\n",
       " 'houston-rockets': 'https://www.espn.com/nba/team/roster/_/name/hou/houston-rockets',\n",
       " 'memphis-grizzlies': 'https://www.espn.com/nba/team/roster/_/name/mem/memphis-grizzlies',\n",
       " 'new-orleans-pelicans': 'https://www.espn.com/nba/team/roster/_/name/no/new-orleans-pelicans',\n",
       " 'san-antonio-spurs': 'https://www.espn.com/nba/team/roster/_/name/sa/san-antonio-spurs'}"
      ]
     },
     "execution_count": 32,
     "metadata": {},
     "output_type": "execute_result"
    }
   ],
   "source": [
    "# build dictionary of current nba rosters\n",
    "nba_rosters = scrape_roster_urls()\n",
    "\n",
    "# display the dictionary\n",
    "nba_rosters"
   ]
  },
  {
   "cell_type": "markdown",
   "metadata": {},
   "source": [
    "Upon visiting the roster and player pages on ESPN, I realized the data that was formerly stored in easily accessible json was now distributed throughout identical html components, meaning re.findall wouldn't be a powerful enough tool to extract all of the data I'd need from the website. Therefore, I've replicated the above steps using Beautiful Soup, an HTML parser which would help with more targeted searches in the later steps."
   ]
  },
  {
   "cell_type": "code",
   "execution_count": 78,
   "metadata": {},
   "outputs": [
    {
     "data": {
      "text/plain": [
       "{'boston-celtics': 'https://www.espn.com/nba/team/roster/_/name/bos/boston-celtics',\n",
       " 'brooklyn-nets': 'https://www.espn.com/nba/team/roster/_/name/bkn/brooklyn-nets',\n",
       " 'new-york-knicks': 'https://www.espn.com/nba/team/roster/_/name/ny/new-york-knicks',\n",
       " 'philadelphia-76ers': 'https://www.espn.com/nba/team/roster/_/name/phi/philadelphia-76ers',\n",
       " 'toronto-raptors': 'https://www.espn.com/nba/team/roster/_/name/tor/toronto-raptors',\n",
       " 'chicago-bulls': 'https://www.espn.com/nba/team/roster/_/name/chi/chicago-bulls',\n",
       " 'cleveland-cavaliers': 'https://www.espn.com/nba/team/roster/_/name/cle/cleveland-cavaliers',\n",
       " 'detroit-pistons': 'https://www.espn.com/nba/team/roster/_/name/det/detroit-pistons',\n",
       " 'indiana-pacers': 'https://www.espn.com/nba/team/roster/_/name/ind/indiana-pacers',\n",
       " 'milwaukee-bucks': 'https://www.espn.com/nba/team/roster/_/name/mil/milwaukee-bucks',\n",
       " 'denver-nuggets': 'https://www.espn.com/nba/team/roster/_/name/den/denver-nuggets',\n",
       " 'minnesota-timberwolves': 'https://www.espn.com/nba/team/roster/_/name/min/minnesota-timberwolves',\n",
       " 'oklahoma-city-thunder': 'https://www.espn.com/nba/team/roster/_/name/okc/oklahoma-city-thunder',\n",
       " 'portland-trail-blazers': 'https://www.espn.com/nba/team/roster/_/name/por/portland-trail-blazers',\n",
       " 'utah-jazz': 'https://www.espn.com/nba/team/roster/_/name/utah/utah-jazz',\n",
       " 'golden-state-warriors': 'https://www.espn.com/nba/team/roster/_/name/gs/golden-state-warriors',\n",
       " 'la-clippers': 'https://www.espn.com/nba/team/roster/_/name/lac/la-clippers',\n",
       " 'los-angeles-lakers': 'https://www.espn.com/nba/team/roster/_/name/lal/los-angeles-lakers',\n",
       " 'phoenix-suns': 'https://www.espn.com/nba/team/roster/_/name/phx/phoenix-suns',\n",
       " 'sacramento-kings': 'https://www.espn.com/nba/team/roster/_/name/sac/sacramento-kings',\n",
       " 'atlanta-hawks': 'https://www.espn.com/nba/team/roster/_/name/atl/atlanta-hawks',\n",
       " 'charlotte-hornets': 'https://www.espn.com/nba/team/roster/_/name/cha/charlotte-hornets',\n",
       " 'miami-heat': 'https://www.espn.com/nba/team/roster/_/name/mia/miami-heat',\n",
       " 'orlando-magic': 'https://www.espn.com/nba/team/roster/_/name/orl/orlando-magic',\n",
       " 'washington-wizards': 'https://www.espn.com/nba/team/roster/_/name/wsh/washington-wizards',\n",
       " 'dallas-mavericks': 'https://www.espn.com/nba/team/roster/_/name/dal/dallas-mavericks',\n",
       " 'houston-rockets': 'https://www.espn.com/nba/team/roster/_/name/hou/houston-rockets',\n",
       " 'memphis-grizzlies': 'https://www.espn.com/nba/team/roster/_/name/mem/memphis-grizzlies',\n",
       " 'new-orleans-pelicans': 'https://www.espn.com/nba/team/roster/_/name/no/new-orleans-pelicans',\n",
       " 'san-antonio-spurs': 'https://www.espn.com/nba/team/roster/_/name/sa/san-antonio-spurs'}"
      ]
     },
     "execution_count": 78,
     "metadata": {},
     "output_type": "execute_result"
    }
   ],
   "source": [
    "# import beautifulsoup library to help parse the tables where player information is stored\n",
    "from bs4 import BeautifulSoup, Tag\n",
    "\n",
    "# create an instance of the beautifulsoup class to parse the page\n",
    "f = urllib.request.urlopen('http://www.espn.com/nba/teams')\n",
    "soup = BeautifulSoup(f.read(), 'html.parser')\n",
    "\n",
    "# define an iterable helper class to pull list of links using regexes\n",
    "class my_regex_searcher:\n",
    "    def __init__(self, regex_string):\n",
    "        self.__r = re.compile(regex_string)\n",
    "        self.groups = []\n",
    "\n",
    "    def __call__(self, what):\n",
    "        if isinstance(what, Tag):\n",
    "            what = what.name\n",
    "\n",
    "        if what:\n",
    "            g = self.__r.findall(what)\n",
    "            if g:\n",
    "                self.groups.append(g)\n",
    "                return True\n",
    "        return False\n",
    "\n",
    "    def __iter__(self):\n",
    "        yield from self.groups\n",
    "\n",
    "#create instance of regex_searcher for links to roster pages\n",
    "roster_searcher = my_regex_searcher(r\"/nba/team/roster/_/name/(\\w+)/(.+)\")\n",
    "\n",
    "#add all roster page links to a dictionary to unpack the regex searcher object\n",
    "scraped_roster_details = dict(zip(soup.find_all(href=roster_searcher), roster_searcher))\n",
    "\n",
    "# extract the components of the keys and values in this intermediate dictionary\n",
    "# and re-zip them together to create the final cleaned dictionary we'll want to use\n",
    "teams = []\n",
    "links = []\n",
    "\n",
    "for value in scraped_roster_details.values():\n",
    "    teams.append(value[0][1])\n",
    "\n",
    "for key in scraped_roster_details.keys():\n",
    "    links.append('https://www.espn.com' + key.get('href'))    \n",
    "\n",
    "rosters_library = dict(zip(teams,links))\n",
    "\n",
    "# display the dictionary\n",
    "rosters_library\n"
   ]
  },
  {
   "cell_type": "code",
   "execution_count": null,
   "metadata": {},
   "outputs": [],
   "source": []
  }
 ],
 "metadata": {
  "kernelspec": {
   "display_name": "Python 3.10.3 64-bit ('3.10.3')",
   "language": "python",
   "name": "python3"
  },
  "language_info": {
   "codemirror_mode": {
    "name": "ipython",
    "version": 3
   },
   "file_extension": ".py",
   "mimetype": "text/x-python",
   "name": "python",
   "nbconvert_exporter": "python",
   "pygments_lexer": "ipython3",
   "version": "3.10.3"
  },
  "orig_nbformat": 4,
  "vscode": {
   "interpreter": {
    "hash": "070c1a25df3ffaebe7bc468c7dee56634dc7b85162fad3817ad677a27a330b87"
   }
  }
 },
 "nbformat": 4,
 "nbformat_minor": 2
}
