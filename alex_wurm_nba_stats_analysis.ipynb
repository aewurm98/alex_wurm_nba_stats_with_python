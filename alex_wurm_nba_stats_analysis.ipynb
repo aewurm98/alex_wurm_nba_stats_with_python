{
 "cells": [
  {
   "cell_type": "markdown",
   "metadata": {},
   "source": [
    "# Data analytics in Python: Scraping and learning from NBA player statistics"
   ]
  },
  {
   "cell_type": "markdown",
   "metadata": {},
   "source": [
    "#### Alex Wurm\n",
    "\n",
    "#### August 2022 \n",
    "#TODO: Add link to Github Repo"
   ]
  },
  {
   "cell_type": "markdown",
   "metadata": {},
   "source": [
    "## Introduction\n",
    "\n",
    "I am a huge fan of the NBA, and basketball in general. If you're coming to this project from my website (#TODO: insert link to my website) you may have picked up on that. Starting in 2020, I began developing a stronger interest in technology and data as well. As part of the work I am doing to gain the skills I believe will be useful for being a founder in the tech world, I set out to marry my data skills to a topic I find interesting. \n",
    "\n",
    "For this project, I (i) use web-scraping tools such as BeautifulSoup to collect disparate data from espn.com's player pages, (ii) use Python's analytics and modeling tools to draw some interesting insights from this data, and (iii) use Python's predictive modeling capabilities to demonstrate how machine learning can be used to make predictions about NBA players.\n",
    "\n",
    "I've left commentary throughout this notebook, as well as checkpoints at which you can export the dataset to play around with it yourself.\n",
    "\n",
    "If any trades / retirements have occured since I posted this project which impact the players used in the examples I've included (e.g., Lebron James, Kevin Durant, Stephen Curry) you may need to edit the (TODO: create .py script for users to run to re-scape this data) in order to replicate the steps detailed below.\n",
    "\n",
    "If you enjoy this project, let me know! Check out my website (TODO: link) and substack (TODO: link) to get in touch and see more from me."
   ]
  },
  {
   "cell_type": "markdown",
   "metadata": {},
   "source": [
    "## Part 1: Webscraping\n",
    "\n",
    "### Source: https://www.espn.com/nba/\n",
    "\n",
    "#### Credit to Erick Lu for some of the ideas here in a similar project back in 2020 (https://erilu.github.io/web-scraping-NBA-statistics/)\n",
    "\n",
    "#### I originally tried to mimic some of the approach from this project, as shown below; however, the espn.com website has changed in the past few years and that method of scraping the player information is no longer valid"
   ]
  },
  {
   "cell_type": "markdown",
   "metadata": {},
   "source": [
    "![NBATEAMSPAGE](./images/espn_nba_teams_page.png \"NBA teams page on espn.com\")"
   ]
  },
  {
   "cell_type": "code",
   "execution_count": 1,
   "metadata": {},
   "outputs": [],
   "source": [
    "# import packages to allow regex handling of url subdirectories\n",
    "\n",
    "import re\n",
    "import urllib\n",
    "from time import sleep"
   ]
  },
  {
   "cell_type": "code",
   "execution_count": 2,
   "metadata": {},
   "outputs": [],
   "source": [
    "# create function to compile list of all team roster urls\n",
    "\n",
    "def scrape_roster_urls():\n",
    "    # use regex to find all html on ESPN's NBA teams page that points to the teams' rosters\n",
    "    f = urllib.request.urlopen('http://www.espn.com/nba/teams')\n",
    "    teams_content = f.read().decode('utf-8')\n",
    "    teams_list = dict(re.findall(\"\\\"/nba/team/roster/_/name/(\\w+)/(.+?)\\\"\", teams_content))\n",
    "\n",
    "    # generate array of urls to scrape\n",
    "    roster_urls = []\n",
    "    for key in teams_list.keys():\n",
    "        roster_urls.append('https://www.espn.com/nba/team/roster/_/name/' + key + '/' + teams_list[key])\n",
    "        teams_list[key] = str(teams_list[key])\n",
    "    return dict(zip(teams_list.values(),roster_urls))"
   ]
  },
  {
   "cell_type": "code",
   "execution_count": 3,
   "metadata": {},
   "outputs": [
    {
     "data": {
      "text/plain": [
       "dict_keys(['boston-celtics', 'brooklyn-nets', 'new-york-knicks', 'philadelphia-76ers', 'toronto-raptors', 'chicago-bulls', 'cleveland-cavaliers', 'detroit-pistons', 'indiana-pacers', 'milwaukee-bucks', 'denver-nuggets', 'minnesota-timberwolves', 'oklahoma-city-thunder', 'portland-trail-blazers', 'utah-jazz', 'golden-state-warriors', 'la-clippers', 'los-angeles-lakers', 'phoenix-suns', 'sacramento-kings', 'atlanta-hawks', 'charlotte-hornets', 'miami-heat', 'orlando-magic', 'washington-wizards', 'dallas-mavericks', 'houston-rockets', 'memphis-grizzlies', 'new-orleans-pelicans', 'san-antonio-spurs'])"
      ]
     },
     "execution_count": 3,
     "metadata": {},
     "output_type": "execute_result"
    }
   ],
   "source": [
    "# build dictionary of current nba rosters\n",
    "nba_rosters = scrape_roster_urls()\n",
    "\n",
    "# display the dictionary keys\n",
    "nba_rosters.keys()"
   ]
  },
  {
   "cell_type": "markdown",
   "metadata": {},
   "source": [
    "#### Upon visiting the roster and player pages on ESPN, I realized the data that was formerly stored in easily accessible json back in 2020 was now distributed throughout identical html table row tags, meaning re.findall wouldn't be a powerful enough tool to extract all of the data I'd need from the website. Therefore, I've replicated the above steps using Beautiful Soup, an HTML parser which would help with more targeted searches in the later steps of this project."
   ]
  },
  {
   "cell_type": "code",
   "execution_count": 4,
   "metadata": {},
   "outputs": [
    {
     "data": {
      "text/plain": [
       "dict_keys(['boston-celtics', 'brooklyn-nets', 'new-york-knicks', 'philadelphia-76ers', 'toronto-raptors', 'chicago-bulls', 'cleveland-cavaliers', 'detroit-pistons', 'indiana-pacers', 'milwaukee-bucks', 'denver-nuggets', 'minnesota-timberwolves', 'oklahoma-city-thunder', 'portland-trail-blazers', 'utah-jazz', 'golden-state-warriors', 'la-clippers', 'los-angeles-lakers', 'phoenix-suns', 'sacramento-kings', 'atlanta-hawks', 'charlotte-hornets', 'miami-heat', 'orlando-magic', 'washington-wizards', 'dallas-mavericks', 'houston-rockets', 'memphis-grizzlies', 'new-orleans-pelicans', 'san-antonio-spurs'])"
      ]
     },
     "execution_count": 4,
     "metadata": {},
     "output_type": "execute_result"
    }
   ],
   "source": [
    "# import beautifulsoup library to help parse the tables where player information is stored\n",
    "from bs4 import BeautifulSoup, Tag\n",
    "\n",
    "# create an instance of the beautifulsoup class to parse the page\n",
    "f = urllib.request.urlopen('http://www.espn.com/nba/teams')\n",
    "teams_soup = BeautifulSoup(f.read(), 'html.parser')\n",
    "\n",
    "# define an iterable helper class to pull list of links using regexes\n",
    "class my_regex_searcher:\n",
    "    def __init__(self, regex_string):\n",
    "        self.__r = re.compile(regex_string)\n",
    "        self.groups = []\n",
    "\n",
    "    def __call__(self, what):\n",
    "        if isinstance(what, Tag):\n",
    "            what = what.name\n",
    "\n",
    "        if what:\n",
    "            g = self.__r.findall(what)\n",
    "            if g:\n",
    "                self.groups.append(g)\n",
    "                return True\n",
    "        return False\n",
    "\n",
    "    def __iter__(self):\n",
    "        yield from self.groups\n",
    "\n",
    "# create instance of regex_searcher for links to roster pages\n",
    "roster_searcher = my_regex_searcher(r\"/nba/team/roster/_/name/(\\w+)/(.+)\")\n",
    "\n",
    "# add all roster page links to a dictionary to unpack the regex searcher object\n",
    "scraped_roster_details = dict(zip(teams_soup.find_all(href=roster_searcher), roster_searcher))\n",
    "\n",
    "# extract the components of the keys and values in this intermediate dictionary\n",
    "# and re-zip them together to create the final cleaned dictionary we'll want to use\n",
    "teams = []\n",
    "links = []\n",
    "\n",
    "for value in scraped_roster_details.values():\n",
    "    teams.append(value[0][1])\n",
    "\n",
    "for key in scraped_roster_details.keys():\n",
    "    links.append('https://www.espn.com' + key.get('href'))    \n",
    "\n",
    "rosters_library = dict(zip(teams,links))\n",
    "\n",
    "# display the dictionary keys\n",
    "rosters_library.keys()\n"
   ]
  },
  {
   "cell_type": "markdown",
   "metadata": {},
   "source": [
    "#### The next step in this process involves collecting player data from each of the 'roster' pages of the 30 NBA teams. To accomplish this pull, we need to iterate through the entire page and pull the set of values associated with each table row (player) across all columns."
   ]
  },
  {
   "cell_type": "markdown",
   "metadata": {},
   "source": [
    "![NBATEAMPAGE](./images/espn_nba_brooklyn_nets_roster_page.png \"Brooklyn Nets roster page on espn.com\")"
   ]
  },
  {
   "cell_type": "markdown",
   "metadata": {},
   "source": [
    "#### You'll notice in the page's html that each row is associated with a numerical index, and that the fixed first column of the table is separate from the rest of the scrollable table columns."
   ]
  },
  {
   "cell_type": "markdown",
   "metadata": {},
   "source": [
    "![NBATEAMPAGEHTML](./images/espn_nba_brooklyn_nets_roster_page_inspect.png \"Brooklyn Nets roster page html on espn.com\")"
   ]
  },
  {
   "cell_type": "markdown",
   "metadata": {},
   "source": [
    "#### To get the information we want, we'll need to loop through both the header and body sections of the table"
   ]
  },
  {
   "cell_type": "code",
   "execution_count": 5,
   "metadata": {},
   "outputs": [
    {
     "data": {
      "text/plain": [
       "['Name', 'POS', 'Age', 'HT', 'WT', 'College', 'Salary']"
      ]
     },
     "execution_count": 5,
     "metadata": {},
     "output_type": "execute_result"
    }
   ],
   "source": [
    "# parse table headers\n",
    "f = urllib.request.urlopen('https://www.espn.com/nba/team/roster/_/name/bkn/brooklyn-nets')\n",
    "roster_soup = BeautifulSoup(f.read(), 'html.parser')\n",
    "table_headers = roster_soup.find_all('th', {'class':'Table__TH'})\n",
    "\n",
    "# convert bs4 result set into string array for regex matching\n",
    "header_values = []\n",
    "for x in table_headers:\n",
    "    header_values.append(str(x))\n",
    "\n",
    "# extract list of table headers\n",
    "column_names = []\n",
    "for x in header_values:\n",
    "\n",
    "    # append conditionally to avoid blank spacer block at the top left of the tables\n",
    "    if len(re.findall(\">([a-zA-Z]+?)<\",header_values[header_values.index(x)])) > 0:\n",
    "        column_names.append(re.findall(\">([a-zA-Z]+?)<\",header_values[header_values.index(x)])[0])\n",
    "\n",
    "column_names"
   ]
  },
  {
   "cell_type": "markdown",
   "metadata": {},
   "source": [
    "#### Now that we have an array to reference for the sets of data we'll be pulling for each player, we can pull the player data.\n",
    "\n",
    "#### First we'll start with an example for a single player"
   ]
  },
  {
   "cell_type": "code",
   "execution_count": 6,
   "metadata": {},
   "outputs": [
    {
     "data": {
      "text/plain": [
       "['Blake Griffin', 'PF', '33', '6\\' 9\"', '250 lbs', 'Oklahoma', '$1,669,178']"
      ]
     },
     "execution_count": 6,
     "metadata": {},
     "output_type": "execute_result"
    }
   ],
   "source": [
    "# parse first row of table\n",
    "player_one = roster_soup.find_all('tr', {'data-idx': 4})\n",
    "\n",
    "# extract all key values from columns\n",
    "\n",
    "# convert bs4 result set into string array for regex matching\n",
    "p1_values = []\n",
    "for x in player_one:\n",
    "    p1_values.append(str(x))\n",
    "\n",
    "# match to contents of tags\n",
    "\n",
    "# note that span is specifically excluded because not all players have a number listed, which makes it difficult to create\n",
    "# same-length arrays of the column headers and the player information. We won't be using the player numbers for any \n",
    "# analysis, so it's alright to exclude them from this scrape.\n",
    "\n",
    "player_stats = re.findall(\"<.+?\\\">([a-zA-Z0-9$;,\\'\\\"\\s\\.\\-\\&]{1,25}?)</(?!span)\", p1_values[0])\n",
    "\n",
    "player_stats"
   ]
  },
  {
   "cell_type": "markdown",
   "metadata": {},
   "source": [
    "#### We'll repeat this process for every player on every NBA team. One thing to note is that not all teams have the same number of players, so we'll either have to (a) create a function to find the max row number for each team, or (b) handle errors for trying to manipulate non-existent html.\n",
    "\n",
    "#### I opted to go with the latter -- so I added try-except logic to handle index errors on the converted bs4 resultSets.\n",
    "\n",
    "#### I also added a final step to scraping each player's information, which is to zip it with the column headers to create a dictionary where the column headers are keys and the player stats are the values."
   ]
  },
  {
   "cell_type": "code",
   "execution_count": 7,
   "metadata": {},
   "outputs": [
    {
     "data": {
      "text/plain": [
       "{'Name': 'Alondes Williams',\n",
       " 'POS': 'G',\n",
       " 'Age': '23',\n",
       " 'HT': '6\\' 5\"',\n",
       " 'WT': '210 lbs',\n",
       " 'College': 'Wake Forest',\n",
       " 'Salary': '--'}"
      ]
     },
     "execution_count": 7,
     "metadata": {},
     "output_type": "execute_result"
    }
   ],
   "source": [
    "# parse first row of table\n",
    "player_one = roster_soup.find_all('tr', {'data-idx': 0})\n",
    "\n",
    "# extract all key values from columns\n",
    "\n",
    "# convert bs4 result set into string array for regex matching\n",
    "p1_values = []\n",
    "for x in player_one:\n",
    "    p1_values.append(str(x))\n",
    "\n",
    "# match to contents of tags\n",
    "try:\n",
    "    player_stats = re.findall(\"<.+?\\\">([a-zA-Z0-9$;,\\'\\\"\\s\\.\\-\\&]{1,25}?)</(?!span)\", p1_values[0])\n",
    "    player_dict = dict(zip(column_names, player_stats))\n",
    "except IndexError:\n",
    "    pass\n",
    "\n",
    "player_dict"
   ]
  },
  {
   "cell_type": "code",
   "execution_count": 8,
   "metadata": {},
   "outputs": [],
   "source": [
    "# create function to take a team roster url and collect all player info\n",
    "\n",
    "def get_player_info(team_roster_url):\n",
    "    f = urllib.request.urlopen(team_roster_url)\n",
    "    team_roster_soup = BeautifulSoup(f.read(), 'html.parser')\n",
    "    \n",
    "    # Part 1: Create table headers\n",
    "    table_headers = team_roster_soup.find_all('th', {'class':'Table__TH'})\n",
    "\n",
    "    # convert bs4 result set into string array for regex matching\n",
    "    header_values = []\n",
    "    for x in table_headers:\n",
    "        header_values.append(str(x))\n",
    "\n",
    "    # extract list of table headers\n",
    "    column_names = []\n",
    "    for x in header_values:\n",
    "\n",
    "        # Append conditionally to avoid blank spacer block at the top left of the tables\n",
    "        if len(re.findall(\">([a-zA-Z]+?)<\",header_values[header_values.index(x)])) > 0:\n",
    "            column_names.append(re.findall(\">([a-zA-Z]+?)<\",header_values[header_values.index(x)])[0])\n",
    "    \n",
    "    # Part 2: Create player dictionaries\n",
    "    roster_dict = dict()\n",
    "\n",
    "    # Loop through indexes 0-30, which will cover the largest roster size of any NBA team.\n",
    "    for i in range(0,30):\n",
    "\n",
    "        # parse corresponding row of table\n",
    "        player = team_roster_soup.find_all('tr', {'data-idx': i})\n",
    "\n",
    "        # extract all key values from columns\n",
    "\n",
    "        # convert bs4 result set into string array for regex matching\n",
    "        p_values = []\n",
    "        for x in player:\n",
    "            p_values.append(str(x))\n",
    "\n",
    "        # match to contents of tags\n",
    "        try:\n",
    "            player_stats = re.findall(\"<.+?\\\">([a-zA-Z0-9$;,\\'\\\"\\s\\.\\-\\&]{1,25}?)</(?!span)\", p_values[0])\n",
    "            player_dict = dict(zip(column_names, player_stats))\n",
    "            roster_dict[player_dict['Name']] = player_dict\n",
    "        except IndexError:\n",
    "            pass\n",
    "\n",
    "    return roster_dict"
   ]
  },
  {
   "cell_type": "markdown",
   "metadata": {},
   "source": [
    "#### With this new function, we should be able to loop through each of the team's respective roster pages and get all of their player information."
   ]
  },
  {
   "cell_type": "code",
   "execution_count": 9,
   "metadata": {},
   "outputs": [],
   "source": [
    "# create master dictionary of teams and player info\n",
    "all_players = dict()\n",
    "\n",
    "for team in rosters_library.keys():\n",
    "    all_players[team] = get_player_info(rosters_library[team])"
   ]
  },
  {
   "cell_type": "code",
   "execution_count": 10,
   "metadata": {},
   "outputs": [
    {
     "data": {
      "text/plain": [
       "{'Name': 'Kevin Durant',\n",
       " 'POS': 'PF',\n",
       " 'Age': '33',\n",
       " 'HT': '6\\' 10\"',\n",
       " 'WT': '240 lbs',\n",
       " 'College': 'Texas',\n",
       " 'Salary': '$42,018,900'}"
      ]
     },
     "execution_count": 10,
     "metadata": {},
     "output_type": "execute_result"
    }
   ],
   "source": [
    "# test output from newly created all_players dictionary\n",
    "\n",
    "kd_info = all_players['brooklyn-nets']['Kevin Durant']\n",
    "kd_info"
   ]
  },
  {
   "cell_type": "code",
   "execution_count": 11,
   "metadata": {},
   "outputs": [
    {
     "data": {
      "text/plain": [
       "{'Name': 'LeBron James',\n",
       " 'POS': 'SF',\n",
       " 'Age': '37',\n",
       " 'HT': '6\\' 9\"',\n",
       " 'WT': '250 lbs',\n",
       " 'College': '--',\n",
       " 'Salary': '$41,180,544'}"
      ]
     },
     "execution_count": 11,
     "metadata": {},
     "output_type": "execute_result"
    }
   ],
   "source": [
    "lebron_info = all_players['los-angeles-lakers']['LeBron James']\n",
    "lebron_info"
   ]
  },
  {
   "cell_type": "code",
   "execution_count": 12,
   "metadata": {},
   "outputs": [
    {
     "data": {
      "text/plain": [
       "{'Name': 'Stephen Curry',\n",
       " 'POS': 'PG',\n",
       " 'Age': '34',\n",
       " 'HT': '6\\' 2\"',\n",
       " 'WT': '185 lbs',\n",
       " 'College': 'Davidson',\n",
       " 'Salary': '$45,780,966'}"
      ]
     },
     "execution_count": 12,
     "metadata": {},
     "output_type": "execute_result"
    }
   ],
   "source": [
    "steph_info = all_players['golden-state-warriors']['Stephen Curry']\n",
    "steph_info"
   ]
  },
  {
   "cell_type": "markdown",
   "metadata": {},
   "source": [
    "#### At this point we have created a dictionary of dictionaries\n",
    "\n",
    "#### The first level of the dictionary maps the teams (keys) to their full rosters (values)\n",
    "\n",
    "#### The second level (the rosters) are themselves dictionaries, mapping the players' names (keys) to their stats (value)"
   ]
  },
  {
   "cell_type": "code",
   "execution_count": 13,
   "metadata": {},
   "outputs": [
    {
     "data": {
      "text/plain": [
       "dict_keys(['boston-celtics', 'brooklyn-nets', 'new-york-knicks', 'philadelphia-76ers', 'toronto-raptors', 'chicago-bulls', 'cleveland-cavaliers', 'detroit-pistons', 'indiana-pacers', 'milwaukee-bucks', 'denver-nuggets', 'minnesota-timberwolves', 'oklahoma-city-thunder', 'portland-trail-blazers', 'utah-jazz', 'golden-state-warriors', 'la-clippers', 'los-angeles-lakers', 'phoenix-suns', 'sacramento-kings', 'atlanta-hawks', 'charlotte-hornets', 'miami-heat', 'orlando-magic', 'washington-wizards', 'dallas-mavericks', 'houston-rockets', 'memphis-grizzlies', 'new-orleans-pelicans', 'san-antonio-spurs'])"
      ]
     },
     "execution_count": 13,
     "metadata": {},
     "output_type": "execute_result"
    }
   ],
   "source": [
    "# display list of NBA teams\n",
    "all_players.keys()"
   ]
  },
  {
   "cell_type": "code",
   "execution_count": 14,
   "metadata": {},
   "outputs": [
    {
     "data": {
      "text/plain": [
       "dict_keys(['LaMarcus Aldridge', 'Nic Claxton', 'Seth Curry', 'David Duke Jr.', 'Kevin Durant', 'Blake Griffin', 'Joe Harris', 'Kyrie Irving', 'Patty Mills', \"Royce O'Neale\", \"Day'Ron Sharpe\", 'Ben Simmons', 'Edmond Sumner', 'Cam Thomas', 'T.J. Warren', 'Alondes Williams'])"
      ]
     },
     "execution_count": 14,
     "metadata": {},
     "output_type": "execute_result"
    }
   ],
   "source": [
    "# display list of NBA players on a team\n",
    "all_players['brooklyn-nets'].keys()"
   ]
  },
  {
   "cell_type": "code",
   "execution_count": 15,
   "metadata": {},
   "outputs": [
    {
     "data": {
      "text/plain": [
       "{'Name': 'Kevin Durant',\n",
       " 'POS': 'PF',\n",
       " 'Age': '33',\n",
       " 'HT': '6\\' 10\"',\n",
       " 'WT': '240 lbs',\n",
       " 'College': 'Texas',\n",
       " 'Salary': '$42,018,900'}"
      ]
     },
     "execution_count": 15,
     "metadata": {},
     "output_type": "execute_result"
    }
   ],
   "source": [
    "# display list of stats for an NBA player\n",
    "all_players['brooklyn-nets']['Kevin Durant']"
   ]
  },
  {
   "cell_type": "code",
   "execution_count": 16,
   "metadata": {},
   "outputs": [
    {
     "data": {
      "text/plain": [
       "'$42,018,900'"
      ]
     },
     "execution_count": 16,
     "metadata": {},
     "output_type": "execute_result"
    }
   ],
   "source": [
    "# display key stat (e.g., salary) for an NBA player\n",
    "all_players['brooklyn-nets']['Kevin Durant']['Salary']"
   ]
  },
  {
   "cell_type": "markdown",
   "metadata": {},
   "source": [
    "#### Now that we have a basic set of information for all NBA players (we'll add more data soon), we'll want to restructure our dataset to make it more conducive for analysis.\n",
    "\n",
    "#### Pandas dataframes are a clean way to structure data in tabular form for this purpose."
   ]
  },
  {
   "cell_type": "code",
   "execution_count": 17,
   "metadata": {},
   "outputs": [
    {
     "data": {
      "text/html": [
       "<div>\n",
       "<style scoped>\n",
       "    .dataframe tbody tr th:only-of-type {\n",
       "        vertical-align: middle;\n",
       "    }\n",
       "\n",
       "    .dataframe tbody tr th {\n",
       "        vertical-align: top;\n",
       "    }\n",
       "\n",
       "    .dataframe thead th {\n",
       "        text-align: right;\n",
       "    }\n",
       "</style>\n",
       "<table border=\"1\" class=\"dataframe\">\n",
       "  <thead>\n",
       "    <tr style=\"text-align: right;\">\n",
       "      <th></th>\n",
       "      <th>Name</th>\n",
       "      <th>POS</th>\n",
       "      <th>Age</th>\n",
       "      <th>HT</th>\n",
       "      <th>WT</th>\n",
       "      <th>College</th>\n",
       "      <th>Salary</th>\n",
       "    </tr>\n",
       "  </thead>\n",
       "  <tbody>\n",
       "    <tr>\n",
       "      <th>LaMarcus Aldridge</th>\n",
       "      <td>LaMarcus Aldridge</td>\n",
       "      <td>C</td>\n",
       "      <td>37</td>\n",
       "      <td>6' 11\"</td>\n",
       "      <td>250 lbs</td>\n",
       "      <td>Texas</td>\n",
       "      <td>$1,669,178</td>\n",
       "    </tr>\n",
       "    <tr>\n",
       "      <th>Nic Claxton</th>\n",
       "      <td>Nic Claxton</td>\n",
       "      <td>PF</td>\n",
       "      <td>23</td>\n",
       "      <td>6' 11\"</td>\n",
       "      <td>215 lbs</td>\n",
       "      <td>Georgia</td>\n",
       "      <td>$1,782,621</td>\n",
       "    </tr>\n",
       "    <tr>\n",
       "      <th>Seth Curry</th>\n",
       "      <td>Seth Curry</td>\n",
       "      <td>SG</td>\n",
       "      <td>31</td>\n",
       "      <td>6' 2\"</td>\n",
       "      <td>185 lbs</td>\n",
       "      <td>Duke</td>\n",
       "      <td>$8,207,518</td>\n",
       "    </tr>\n",
       "    <tr>\n",
       "      <th>David Duke Jr.</th>\n",
       "      <td>David Duke Jr.</td>\n",
       "      <td>SF</td>\n",
       "      <td>22</td>\n",
       "      <td>6' 4\"</td>\n",
       "      <td>204 lbs</td>\n",
       "      <td>Providence</td>\n",
       "      <td>--</td>\n",
       "    </tr>\n",
       "    <tr>\n",
       "      <th>Kevin Durant</th>\n",
       "      <td>Kevin Durant</td>\n",
       "      <td>PF</td>\n",
       "      <td>33</td>\n",
       "      <td>6' 10\"</td>\n",
       "      <td>240 lbs</td>\n",
       "      <td>Texas</td>\n",
       "      <td>$42,018,900</td>\n",
       "    </tr>\n",
       "  </tbody>\n",
       "</table>\n",
       "</div>"
      ],
      "text/plain": [
       "                                Name POS Age      HT       WT     College  \\\n",
       "LaMarcus Aldridge  LaMarcus Aldridge   C  37  6' 11\"  250 lbs       Texas   \n",
       "Nic Claxton              Nic Claxton  PF  23  6' 11\"  215 lbs     Georgia   \n",
       "Seth Curry                Seth Curry  SG  31   6' 2\"  185 lbs        Duke   \n",
       "David Duke Jr.        David Duke Jr.  SF  22   6' 4\"  204 lbs  Providence   \n",
       "Kevin Durant            Kevin Durant  PF  33  6' 10\"  240 lbs       Texas   \n",
       "\n",
       "                        Salary  \n",
       "LaMarcus Aldridge   $1,669,178  \n",
       "Nic Claxton         $1,782,621  \n",
       "Seth Curry          $8,207,518  \n",
       "David Duke Jr.              --  \n",
       "Kevin Durant       $42,018,900  "
      ]
     },
     "execution_count": 17,
     "metadata": {},
     "output_type": "execute_result"
    }
   ],
   "source": [
    "# import pandas library\n",
    "import pandas as pd\n",
    "\n",
    "# example converting a teams roster dictionary into a dataframe\n",
    "bkn = pd.DataFrame.from_dict(all_players['brooklyn-nets'], orient = 'index')\n",
    "bkn.head(5)"
   ]
  },
  {
   "cell_type": "markdown",
   "metadata": {},
   "source": [
    "#### Similarly to how we created the all_players dict, we'll need to create a dataframe for each team and roll them all up into one master dataframe for analysis of all NBA players"
   ]
  },
  {
   "cell_type": "code",
   "execution_count": 18,
   "metadata": {},
   "outputs": [],
   "source": [
    "# initialize empty pandas dataframe\n",
    "all_players_df = pd.DataFrame()\n",
    "\n",
    "# loop through each team, creating a pandas dataframe as described above\n",
    "# and append the records to the all_players_df object\n",
    "# adding an extra field 'team' to keep track of data sources\n",
    "\n",
    "for team in all_players:\n",
    "    roster_df = pd.DataFrame.from_dict(all_players[team], orient = 'index')\n",
    "    roster_df['Team'] = team\n",
    "    all_players_df = pd.concat([all_players_df, roster_df])"
   ]
  },
  {
   "cell_type": "code",
   "execution_count": 19,
   "metadata": {},
   "outputs": [
    {
     "data": {
      "text/html": [
       "<div>\n",
       "<style scoped>\n",
       "    .dataframe tbody tr th:only-of-type {\n",
       "        vertical-align: middle;\n",
       "    }\n",
       "\n",
       "    .dataframe tbody tr th {\n",
       "        vertical-align: top;\n",
       "    }\n",
       "\n",
       "    .dataframe thead th {\n",
       "        text-align: right;\n",
       "    }\n",
       "</style>\n",
       "<table border=\"1\" class=\"dataframe\">\n",
       "  <thead>\n",
       "    <tr style=\"text-align: right;\">\n",
       "      <th></th>\n",
       "      <th>Name</th>\n",
       "      <th>POS</th>\n",
       "      <th>Age</th>\n",
       "      <th>HT</th>\n",
       "      <th>WT</th>\n",
       "      <th>College</th>\n",
       "      <th>Salary</th>\n",
       "      <th>Team</th>\n",
       "    </tr>\n",
       "  </thead>\n",
       "  <tbody>\n",
       "    <tr>\n",
       "      <th>Malcolm Brogdon</th>\n",
       "      <td>Malcolm Brogdon</td>\n",
       "      <td>PG</td>\n",
       "      <td>29</td>\n",
       "      <td>6' 5\"</td>\n",
       "      <td>229 lbs</td>\n",
       "      <td>Virginia</td>\n",
       "      <td>$21,700,000</td>\n",
       "      <td>boston-celtics</td>\n",
       "    </tr>\n",
       "    <tr>\n",
       "      <th>Jaylen Brown</th>\n",
       "      <td>Jaylen Brown</td>\n",
       "      <td>SG</td>\n",
       "      <td>25</td>\n",
       "      <td>6' 6\"</td>\n",
       "      <td>223 lbs</td>\n",
       "      <td>California</td>\n",
       "      <td>$26,758,928</td>\n",
       "      <td>boston-celtics</td>\n",
       "    </tr>\n",
       "    <tr>\n",
       "      <th>Bruno Caboclo</th>\n",
       "      <td>Bruno Caboclo</td>\n",
       "      <td>F</td>\n",
       "      <td>26</td>\n",
       "      <td>6' 9\"</td>\n",
       "      <td>218 lbs</td>\n",
       "      <td>--</td>\n",
       "      <td>--</td>\n",
       "      <td>boston-celtics</td>\n",
       "    </tr>\n",
       "    <tr>\n",
       "      <th>JD Davison</th>\n",
       "      <td>JD Davison</td>\n",
       "      <td>G</td>\n",
       "      <td>19</td>\n",
       "      <td>6' 3\"</td>\n",
       "      <td>195 lbs</td>\n",
       "      <td>Alabama</td>\n",
       "      <td>--</td>\n",
       "      <td>boston-celtics</td>\n",
       "    </tr>\n",
       "    <tr>\n",
       "      <th>Danilo Gallinari</th>\n",
       "      <td>Danilo Gallinari</td>\n",
       "      <td>F</td>\n",
       "      <td>34</td>\n",
       "      <td>6' 10\"</td>\n",
       "      <td>236 lbs</td>\n",
       "      <td>--</td>\n",
       "      <td>$20,475,000</td>\n",
       "      <td>boston-celtics</td>\n",
       "    </tr>\n",
       "  </tbody>\n",
       "</table>\n",
       "</div>"
      ],
      "text/plain": [
       "                              Name POS Age      HT       WT     College  \\\n",
       "Malcolm Brogdon    Malcolm Brogdon  PG  29   6' 5\"  229 lbs    Virginia   \n",
       "Jaylen Brown          Jaylen Brown  SG  25   6' 6\"  223 lbs  California   \n",
       "Bruno Caboclo        Bruno Caboclo   F  26   6' 9\"  218 lbs          --   \n",
       "JD Davison              JD Davison   G  19   6' 3\"  195 lbs     Alabama   \n",
       "Danilo Gallinari  Danilo Gallinari   F  34  6' 10\"  236 lbs          --   \n",
       "\n",
       "                       Salary            Team  \n",
       "Malcolm Brogdon   $21,700,000  boston-celtics  \n",
       "Jaylen Brown      $26,758,928  boston-celtics  \n",
       "Bruno Caboclo              --  boston-celtics  \n",
       "JD Davison                 --  boston-celtics  \n",
       "Danilo Gallinari  $20,475,000  boston-celtics  "
      ]
     },
     "execution_count": 19,
     "metadata": {},
     "output_type": "execute_result"
    }
   ],
   "source": [
    "# display first 10 records from all_players_df\n",
    "all_players_df.head(5)"
   ]
  },
  {
   "cell_type": "markdown",
   "metadata": {},
   "source": [
    "#### At this point we have a complete dataset of basic player information -- we'll still want to add player performance statistics to this dataset to have something interesting to analyze, but for anyone who wants to play around with this initial dataset, you can export it to a csv file below"
   ]
  },
  {
   "cell_type": "code",
   "execution_count": 20,
   "metadata": {},
   "outputs": [],
   "source": [
    "all_players_df.to_csv(\"Aug_2022_NBA_players_data.csv\")"
   ]
  },
  {
   "cell_type": "markdown",
   "metadata": {},
   "source": [
    "#### For simplicity, we'll take players' career averages and add them to our dataframe\n",
    "\n",
    "#### To do so, we'll need to see what an individual player's page looks like"
   ]
  },
  {
   "cell_type": "markdown",
   "metadata": {},
   "source": [
    "![NBAPLAYERPAGE](./images/espn_nba_kevin_durant_player_page.png \"Kevin Durant page on espn.com\")"
   ]
  },
  {
   "cell_type": "markdown",
   "metadata": {},
   "source": [
    "#### You'll notice the player's career stats are stored in the 'Stats' card on their page, as well as their most recent regular season and postseason stats. "
   ]
  },
  {
   "cell_type": "markdown",
   "metadata": {},
   "source": [
    "![NBAPLAYERPAGEHTML](./images/espn_nba_kevin_durant_player_page_inspect.png \"Kevin Durant page on espn.com\")"
   ]
  },
  {
   "cell_type": "markdown",
   "metadata": {},
   "source": [
    "#### Not all players will have postseason stats (or even regular season stats, in the case of newly drafted rookies). To make sure we only pull career stats, we'll need to check if the desired stats exist for a player, and then if they do make sure we only pull the data from the corresponding row of then table"
   ]
  },
  {
   "cell_type": "code",
   "execution_count": 21,
   "metadata": {},
   "outputs": [],
   "source": [
    "# parse individual player's page\n",
    "f = urllib.request.urlopen('https://www.espn.com/nba/player/_/id/3202/kevin-durant')\n",
    "kd_soup = BeautifulSoup(f.read(), 'html.parser')\n",
    "\n",
    "# would return blank a blank bs4 ResultSet object if the player stats card did not exist\n",
    "kd_stats = kd_soup.find_all('section', {'class':'Card PlayerStats'})\n",
    "\n",
    "# convert the bs4 resultSet to a string\n",
    "try:\n",
    "    kd_stat_card = str(kd_stats[0])\n",
    "except IndexError:\n",
    "    kd_stat_card = []\n",
    "\n",
    "# search the card for career stats record\n",
    "try:\n",
    "    row_number = re.findall(\"data-idx=\\\"(\\d)\\\"><td class=\\\"Table__TD\\\">Career</td>\",kd_stat_card)[0]\n",
    "except TypeError:\n",
    "    pass\n",
    "\n",
    "# pull the list of column headers\n",
    "try:\n",
    "    card_headers = re.findall(\"class=\\\"Table__TH\\\".+?>(.+?)</th>\", kd_stat_card)\n",
    "except TypeError:\n",
    "    pass\n",
    "\n",
    "# pull the list of career stats\n",
    "try:\n",
    "    kd_career_stats = re.findall(\"data-idx=\\\"{row_number}\\\">(.+?)</tr>\".format(row_number = row_number), kd_stat_card)\n",
    "except (TypeError, NameError):\n",
    "    pass\n",
    "\n",
    "# convert from bs4 resultSet to list\n",
    "try:\n",
    "    card_data = []\n",
    "    for x in kd_career_stats:\n",
    "        stats = re.findall(\"<td class=\\\"Table__TD\\\">(.+?)</td>\",kd_career_stats[kd_career_stats.index(x)])\n",
    "        for y in stats:\n",
    "            card_data.append(str(y))\n",
    "except (IndexError, TypeError, NameError):\n",
    "   pass\n",
    "\n",
    "try:\n",
    "    kd_dict = dict(zip(card_headers, card_data))\n",
    "except (TypeError, NameError):\n",
    "    pass\n",
    "\n",
    "try:\n",
    "    kd_dict\n",
    "except NameError:\n",
    "    pass\n"
   ]
  },
  {
   "cell_type": "markdown",
   "metadata": {},
   "source": [
    "#### In order to iterate through all players, (a) we'll need to be able to construct the unique URLs for each of their pages, which will require knowing the IDs associated with each player, and (b) we'll need to define a function that can accomplish the above stats pull given that url information, and append it to the all_players_df object.\n",
    "\n",
    "#### To start, we can extract these IDs from the anchorlinks to the players' names and photos in the tables on the rosters pages we analyzed previously.\n",
    "\n",
    "#### We'll also just grab the full urls while we're at it, since the name formats in the urls are different than those we've already pulled, which would create issues later."
   ]
  },
  {
   "cell_type": "code",
   "execution_count": 22,
   "metadata": {},
   "outputs": [],
   "source": [
    "# create a function to take a team roster url and collect all of the player ids\n",
    "\n",
    "def get_player_ids(team_roster_url):\n",
    "    f = urllib.request.urlopen(team_roster_url)\n",
    "    team_roster_soup = BeautifulSoup(f.read(), 'html.parser')\n",
    "\n",
    "    # create player id dictionaries\n",
    "    ids_dict = dict()\n",
    "\n",
    "    # Loop through indexes 0-30, which will cover the largest roster size of any NBA team.\n",
    "    for i in range(0,30):\n",
    "\n",
    "        # parse corresponding row of table\n",
    "        player_id = team_roster_soup.find_all('tr', {'data-idx': i})\n",
    "\n",
    "        # extract all ids from anchor links\n",
    "\n",
    "        # convert bs4 result set into string array for regex matching\n",
    "        id_values = []\n",
    "        for x in player_id:\n",
    "            id_values.append(str(x))\n",
    "\n",
    "        # match to contents of tags\n",
    "        try:\n",
    "            player_name = re.findall(\"<.+?\\\">([a-zA-Z0-9$;,\\'\\\"\\s\\.\\-\\&]{1,25}?)</(?!span)\", id_values[0])[0]\n",
    "            player_id = re.findall(\"href=\\\"https://www.espn.com/nba/player/_/id/(\\d+?)/[\\w\\-]+?\\\"\", id_values[0])[0]\n",
    "            player_url = re.findall(\"href=\\\"(https://www.espn.com/nba/player/_/id/\\d+?/[\\w\\-]+?)\\\"\", id_values[0])[0]\n",
    "            ids_dict[player_name] = dict({'id': player_id, 'url': player_url})\n",
    "        except IndexError:\n",
    "            pass\n",
    "\n",
    "    return ids_dict"
   ]
  },
  {
   "cell_type": "markdown",
   "metadata": {},
   "source": [
    "#### With a function to collect all player ids, we can create another dictionary for all players, convert it to a dataframe, and join it with our existing all_players_df object"
   ]
  },
  {
   "cell_type": "code",
   "execution_count": 23,
   "metadata": {},
   "outputs": [],
   "source": [
    "# create a new dictionary to hold all player ids\n",
    "\n",
    "all_player_ids = dict()\n",
    "\n",
    "# populate this new dictionary with the ids of all players across every NBA team\n",
    "\n",
    "for team in rosters_library.keys():\n",
    "    all_player_ids[team] = get_player_ids(rosters_library[team])"
   ]
  },
  {
   "cell_type": "code",
   "execution_count": 24,
   "metadata": {},
   "outputs": [
    {
     "data": {
      "text/plain": [
       "{'id': '3202', 'url': 'https://www.espn.com/nba/player/_/id/3202/kevin-durant'}"
      ]
     },
     "execution_count": 24,
     "metadata": {},
     "output_type": "execute_result"
    }
   ],
   "source": [
    "# display select values in all_player_ids dictionary\n",
    "\n",
    "kd_id = all_player_ids['brooklyn-nets']['Kevin Durant']\n",
    "kd_id"
   ]
  },
  {
   "cell_type": "code",
   "execution_count": 25,
   "metadata": {},
   "outputs": [
    {
     "data": {
      "text/plain": [
       "{'id': '1966', 'url': 'https://www.espn.com/nba/player/_/id/1966/lebron-james'}"
      ]
     },
     "execution_count": 25,
     "metadata": {},
     "output_type": "execute_result"
    }
   ],
   "source": [
    "lebron_id = all_player_ids['los-angeles-lakers']['LeBron James']\n",
    "lebron_id"
   ]
  },
  {
   "cell_type": "code",
   "execution_count": 26,
   "metadata": {},
   "outputs": [
    {
     "data": {
      "text/plain": [
       "{'id': '3975',\n",
       " 'url': 'https://www.espn.com/nba/player/_/id/3975/stephen-curry'}"
      ]
     },
     "execution_count": 26,
     "metadata": {},
     "output_type": "execute_result"
    }
   ],
   "source": [
    "steph_id = all_player_ids['golden-state-warriors']['Stephen Curry']\n",
    "steph_id"
   ]
  },
  {
   "cell_type": "code",
   "execution_count": 27,
   "metadata": {},
   "outputs": [],
   "source": [
    "# initialize empty pandas dataframe for ids\n",
    "all_player_ids_df = pd.DataFrame()\n",
    "\n",
    "# loop through each team, creating a pandas dataframe\n",
    "# and append the records to the all_player_ids_df object\n",
    "\n",
    "for team in all_player_ids:\n",
    "    roster_ids_df = pd.DataFrame.from_dict(all_player_ids[team], orient = 'index')\n",
    "    all_player_ids_df = pd.concat([all_player_ids_df, roster_ids_df])"
   ]
  },
  {
   "cell_type": "code",
   "execution_count": 28,
   "metadata": {},
   "outputs": [
    {
     "data": {
      "text/html": [
       "<div>\n",
       "<style scoped>\n",
       "    .dataframe tbody tr th:only-of-type {\n",
       "        vertical-align: middle;\n",
       "    }\n",
       "\n",
       "    .dataframe tbody tr th {\n",
       "        vertical-align: top;\n",
       "    }\n",
       "\n",
       "    .dataframe thead th {\n",
       "        text-align: right;\n",
       "    }\n",
       "</style>\n",
       "<table border=\"1\" class=\"dataframe\">\n",
       "  <thead>\n",
       "    <tr style=\"text-align: right;\">\n",
       "      <th></th>\n",
       "      <th>id</th>\n",
       "      <th>url</th>\n",
       "    </tr>\n",
       "  </thead>\n",
       "  <tbody>\n",
       "    <tr>\n",
       "      <th>Malcolm Brogdon</th>\n",
       "      <td>2566769</td>\n",
       "      <td>https://www.espn.com/nba/player/_/id/2566769/m...</td>\n",
       "    </tr>\n",
       "    <tr>\n",
       "      <th>Jaylen Brown</th>\n",
       "      <td>3917376</td>\n",
       "      <td>https://www.espn.com/nba/player/_/id/3917376/j...</td>\n",
       "    </tr>\n",
       "    <tr>\n",
       "      <th>Bruno Caboclo</th>\n",
       "      <td>3113297</td>\n",
       "      <td>https://www.espn.com/nba/player/_/id/3113297/b...</td>\n",
       "    </tr>\n",
       "    <tr>\n",
       "      <th>JD Davison</th>\n",
       "      <td>4576085</td>\n",
       "      <td>https://www.espn.com/nba/player/_/id/4576085/j...</td>\n",
       "    </tr>\n",
       "    <tr>\n",
       "      <th>Danilo Gallinari</th>\n",
       "      <td>3428</td>\n",
       "      <td>https://www.espn.com/nba/player/_/id/3428/dani...</td>\n",
       "    </tr>\n",
       "  </tbody>\n",
       "</table>\n",
       "</div>"
      ],
      "text/plain": [
       "                       id                                                url\n",
       "Malcolm Brogdon   2566769  https://www.espn.com/nba/player/_/id/2566769/m...\n",
       "Jaylen Brown      3917376  https://www.espn.com/nba/player/_/id/3917376/j...\n",
       "Bruno Caboclo     3113297  https://www.espn.com/nba/player/_/id/3113297/b...\n",
       "JD Davison        4576085  https://www.espn.com/nba/player/_/id/4576085/j...\n",
       "Danilo Gallinari     3428  https://www.espn.com/nba/player/_/id/3428/dani..."
      ]
     },
     "execution_count": 28,
     "metadata": {},
     "output_type": "execute_result"
    }
   ],
   "source": [
    "# display first 10 records from all_players_df\n",
    "all_player_ids_df.head(5)"
   ]
  },
  {
   "cell_type": "code",
   "execution_count": 29,
   "metadata": {},
   "outputs": [],
   "source": [
    "# update the all_players_df object with ids\n",
    "\n",
    "# note: there are no two players currently in the NBA with the exact same first and last name,\n",
    "# and it is unlikely there will be in the future. If this situation did occur, we would need to use\n",
    "# the pandas.merge function and specify the name column AND another identifying column (e.g., team)\n",
    "# rather than simply joining on the indexes, which in this case are also the names of the players\n",
    "all_players_df = all_players_df.join(all_player_ids_df)"
   ]
  },
  {
   "cell_type": "code",
   "execution_count": 30,
   "metadata": {},
   "outputs": [
    {
     "data": {
      "text/html": [
       "<div>\n",
       "<style scoped>\n",
       "    .dataframe tbody tr th:only-of-type {\n",
       "        vertical-align: middle;\n",
       "    }\n",
       "\n",
       "    .dataframe tbody tr th {\n",
       "        vertical-align: top;\n",
       "    }\n",
       "\n",
       "    .dataframe thead th {\n",
       "        text-align: right;\n",
       "    }\n",
       "</style>\n",
       "<table border=\"1\" class=\"dataframe\">\n",
       "  <thead>\n",
       "    <tr style=\"text-align: right;\">\n",
       "      <th></th>\n",
       "      <th>Name</th>\n",
       "      <th>POS</th>\n",
       "      <th>Age</th>\n",
       "      <th>HT</th>\n",
       "      <th>WT</th>\n",
       "      <th>College</th>\n",
       "      <th>Salary</th>\n",
       "      <th>Team</th>\n",
       "      <th>id</th>\n",
       "      <th>url</th>\n",
       "    </tr>\n",
       "  </thead>\n",
       "  <tbody>\n",
       "    <tr>\n",
       "      <th>Malcolm Brogdon</th>\n",
       "      <td>Malcolm Brogdon</td>\n",
       "      <td>PG</td>\n",
       "      <td>29</td>\n",
       "      <td>6' 5\"</td>\n",
       "      <td>229 lbs</td>\n",
       "      <td>Virginia</td>\n",
       "      <td>$21,700,000</td>\n",
       "      <td>boston-celtics</td>\n",
       "      <td>2566769</td>\n",
       "      <td>https://www.espn.com/nba/player/_/id/2566769/m...</td>\n",
       "    </tr>\n",
       "    <tr>\n",
       "      <th>Jaylen Brown</th>\n",
       "      <td>Jaylen Brown</td>\n",
       "      <td>SG</td>\n",
       "      <td>25</td>\n",
       "      <td>6' 6\"</td>\n",
       "      <td>223 lbs</td>\n",
       "      <td>California</td>\n",
       "      <td>$26,758,928</td>\n",
       "      <td>boston-celtics</td>\n",
       "      <td>3917376</td>\n",
       "      <td>https://www.espn.com/nba/player/_/id/3917376/j...</td>\n",
       "    </tr>\n",
       "    <tr>\n",
       "      <th>Bruno Caboclo</th>\n",
       "      <td>Bruno Caboclo</td>\n",
       "      <td>F</td>\n",
       "      <td>26</td>\n",
       "      <td>6' 9\"</td>\n",
       "      <td>218 lbs</td>\n",
       "      <td>--</td>\n",
       "      <td>--</td>\n",
       "      <td>boston-celtics</td>\n",
       "      <td>3113297</td>\n",
       "      <td>https://www.espn.com/nba/player/_/id/3113297/b...</td>\n",
       "    </tr>\n",
       "    <tr>\n",
       "      <th>JD Davison</th>\n",
       "      <td>JD Davison</td>\n",
       "      <td>G</td>\n",
       "      <td>19</td>\n",
       "      <td>6' 3\"</td>\n",
       "      <td>195 lbs</td>\n",
       "      <td>Alabama</td>\n",
       "      <td>--</td>\n",
       "      <td>boston-celtics</td>\n",
       "      <td>4576085</td>\n",
       "      <td>https://www.espn.com/nba/player/_/id/4576085/j...</td>\n",
       "    </tr>\n",
       "    <tr>\n",
       "      <th>Danilo Gallinari</th>\n",
       "      <td>Danilo Gallinari</td>\n",
       "      <td>F</td>\n",
       "      <td>34</td>\n",
       "      <td>6' 10\"</td>\n",
       "      <td>236 lbs</td>\n",
       "      <td>--</td>\n",
       "      <td>$20,475,000</td>\n",
       "      <td>boston-celtics</td>\n",
       "      <td>3428</td>\n",
       "      <td>https://www.espn.com/nba/player/_/id/3428/dani...</td>\n",
       "    </tr>\n",
       "  </tbody>\n",
       "</table>\n",
       "</div>"
      ],
      "text/plain": [
       "                              Name POS Age      HT       WT     College  \\\n",
       "Malcolm Brogdon    Malcolm Brogdon  PG  29   6' 5\"  229 lbs    Virginia   \n",
       "Jaylen Brown          Jaylen Brown  SG  25   6' 6\"  223 lbs  California   \n",
       "Bruno Caboclo        Bruno Caboclo   F  26   6' 9\"  218 lbs          --   \n",
       "JD Davison              JD Davison   G  19   6' 3\"  195 lbs     Alabama   \n",
       "Danilo Gallinari  Danilo Gallinari   F  34  6' 10\"  236 lbs          --   \n",
       "\n",
       "                       Salary            Team       id  \\\n",
       "Malcolm Brogdon   $21,700,000  boston-celtics  2566769   \n",
       "Jaylen Brown      $26,758,928  boston-celtics  3917376   \n",
       "Bruno Caboclo              --  boston-celtics  3113297   \n",
       "JD Davison                 --  boston-celtics  4576085   \n",
       "Danilo Gallinari  $20,475,000  boston-celtics     3428   \n",
       "\n",
       "                                                                url  \n",
       "Malcolm Brogdon   https://www.espn.com/nba/player/_/id/2566769/m...  \n",
       "Jaylen Brown      https://www.espn.com/nba/player/_/id/3917376/j...  \n",
       "Bruno Caboclo     https://www.espn.com/nba/player/_/id/3113297/b...  \n",
       "JD Davison        https://www.espn.com/nba/player/_/id/4576085/j...  \n",
       "Danilo Gallinari  https://www.espn.com/nba/player/_/id/3428/dani...  "
      ]
     },
     "execution_count": 30,
     "metadata": {},
     "output_type": "execute_result"
    }
   ],
   "source": [
    "# display first 10 records from the updated all_players_df\n",
    "all_players_df.head(5)"
   ]
  },
  {
   "cell_type": "markdown",
   "metadata": {},
   "source": [
    "#### Now that we finally have a complete dataframe with unique ids, we can go back and scrape all player pages for their career stats"
   ]
  },
  {
   "cell_type": "code",
   "execution_count": 31,
   "metadata": {},
   "outputs": [],
   "source": [
    "# create a function that takes a player page url and scrapes a players stats, adding them to a dictionary\n",
    "\n",
    "def get_player_stats(player_url):\n",
    "    # parse individual player's page\n",
    "    f = urllib.request.urlopen(player_url)\n",
    "    player_soup = BeautifulSoup(f.read(), 'html.parser')\n",
    "\n",
    "    # would return blank a blank bs4 ResultSet object if the player stats card did not exist\n",
    "    player_stats = player_soup.find_all('section', {'class':'Card PlayerStats'})\n",
    "\n",
    "    # convert the bs4 resultSet to a string\n",
    "    try:\n",
    "        player_stat_card = str(player_stats[0])\n",
    "    except IndexError:\n",
    "        player_stat_card = []\n",
    "\n",
    "    # search the card for career stats record\n",
    "    try:\n",
    "        row_number = re.findall(\"data-idx=\\\"(\\d)\\\"><td class=\\\"Table__TD\\\">Career</td>\",player_stat_card)[0]\n",
    "    except TypeError:\n",
    "        pass\n",
    "\n",
    "    # pull the list of column headers\n",
    "    try:\n",
    "        card_headers = re.findall(\"class=\\\"Table__TH\\\".+?>(.+?)</th>\", player_stat_card)\n",
    "    except TypeError:\n",
    "        pass\n",
    "\n",
    "    # pull the list of career stats\n",
    "    try:\n",
    "        player_career_stats = re.findall(\"data-idx=\\\"{row_number}\\\">(.+?)</tr>\".format(row_number = row_number), player_stat_card)\n",
    "    except (TypeError, UnboundLocalError) :\n",
    "        pass\n",
    "\n",
    "    # convert from bs4 resultSet to list\n",
    "    try:\n",
    "        card_data = []\n",
    "        for x in player_career_stats:\n",
    "            stats = re.findall(\"<td class=\\\"Table__TD\\\">(.+?)</td>\",player_career_stats[player_career_stats.index(x)])\n",
    "            for y in stats:\n",
    "                card_data.append(str(y))\n",
    "    except (IndexError, TypeError, UnboundLocalError):\n",
    "        pass\n",
    "\n",
    "    try:\n",
    "        player_dict = dict(zip(card_headers, card_data))\n",
    "    except (TypeError, UnboundLocalError):\n",
    "        pass\n",
    "\n",
    "    try:\n",
    "        return player_dict\n",
    "    except:\n",
    "        player_dict = dict()\n",
    "        return player_dict"
   ]
  },
  {
   "cell_type": "code",
   "execution_count": 32,
   "metadata": {},
   "outputs": [],
   "source": [
    "# create a function that takes a dataframe with player names as indexes and uses the above stats-\n",
    "# scraping function to return a dictionary of all player career avg. stats for an entire NBA team\n",
    "\n",
    "def compile_all_stats(players_dataframe):\n",
    "\n",
    "    career_stats_dict = dict()\n",
    "\n",
    "    for player, info in players_dataframe.iterrows():\n",
    "        player_url = players_dataframe.loc[player][\"url\"]\n",
    "        pstats_dict = get_player_stats(player_url)\n",
    "        career_stats_dict[player] = pstats_dict\n",
    "    \n",
    "    return career_stats_dict"
   ]
  },
  {
   "cell_type": "code",
   "execution_count": 33,
   "metadata": {},
   "outputs": [],
   "source": [
    "# compile player career stats dictionary by scraping every NBA player's page\n",
    "player_stats_dict = compile_all_stats(all_players_df)"
   ]
  },
  {
   "cell_type": "markdown",
   "metadata": {},
   "source": [
    "#### If you are running this code locally you'll notice this last step takes considerably longer than the rest of the steps in this project. That difference is because we are scraping each NBA player's web page individually. Because there are ~15 players per team in the NBA, that is more than an order of magnitude greater than the number of pages we need to scrape for any roster page-level data."
   ]
  },
  {
   "cell_type": "code",
   "execution_count": 34,
   "metadata": {},
   "outputs": [
    {
     "data": {
      "text/plain": [
       "{'Stats': 'Career',\n",
       " 'GP': '939',\n",
       " 'MIN': '36.8',\n",
       " 'FG%': '49.6',\n",
       " '3P%': '38.4',\n",
       " 'FT%': '88.4',\n",
       " 'REB': '7.1',\n",
       " 'AST': '4.3',\n",
       " 'BLK': '1.1',\n",
       " 'STL': '1.1',\n",
       " 'PF': '1.9',\n",
       " 'TO': '3.2',\n",
       " 'PTS': '27.2'}"
      ]
     },
     "execution_count": 34,
     "metadata": {},
     "output_type": "execute_result"
    }
   ],
   "source": [
    "# display select entries from the stats dictionary\n",
    "\n",
    "kd_stats = player_stats_dict['Kevin Durant']\n",
    "kd_stats"
   ]
  },
  {
   "cell_type": "code",
   "execution_count": 35,
   "metadata": {},
   "outputs": [
    {
     "data": {
      "text/plain": [
       "{'Stats': 'Career',\n",
       " 'GP': '1366',\n",
       " 'MIN': '38.2',\n",
       " 'FG%': '50.5',\n",
       " '3P%': '34.6',\n",
       " 'FT%': '73.4',\n",
       " 'REB': '7.5',\n",
       " 'AST': '7.4',\n",
       " 'BLK': '0.8',\n",
       " 'STL': '1.6',\n",
       " 'PF': '1.8',\n",
       " 'TO': '3.5',\n",
       " 'PTS': '27.1'}"
      ]
     },
     "execution_count": 35,
     "metadata": {},
     "output_type": "execute_result"
    }
   ],
   "source": [
    "lebron_stats = player_stats_dict['LeBron James']\n",
    "lebron_stats"
   ]
  },
  {
   "cell_type": "code",
   "execution_count": 36,
   "metadata": {},
   "outputs": [
    {
     "data": {
      "text/plain": [
       "{'Stats': 'Career',\n",
       " 'GP': '826',\n",
       " 'MIN': '34.3',\n",
       " 'FG%': '47.3',\n",
       " '3P%': '42.8',\n",
       " 'FT%': '90.8',\n",
       " 'REB': '4.6',\n",
       " 'AST': '6.5',\n",
       " 'BLK': '0.2',\n",
       " 'STL': '1.7',\n",
       " 'PF': '2.4',\n",
       " 'TO': '3.1',\n",
       " 'PTS': '24.3'}"
      ]
     },
     "execution_count": 36,
     "metadata": {},
     "output_type": "execute_result"
    }
   ],
   "source": [
    "steph_stats = player_stats_dict['Stephen Curry']\n",
    "steph_stats"
   ]
  },
  {
   "cell_type": "markdown",
   "metadata": {},
   "source": [
    "#### Finally, we'll convert this player-level dictionary to a dataframe and join it to our all_players_df object as we did with the ids and urls."
   ]
  },
  {
   "cell_type": "code",
   "execution_count": 37,
   "metadata": {},
   "outputs": [],
   "source": [
    "# create final dataframe to join with existing player-level data\n",
    "\n",
    "all_player_stats_df = pd.DataFrame.from_dict(player_stats_dict, orient = 'index')"
   ]
  },
  {
   "cell_type": "code",
   "execution_count": 38,
   "metadata": {},
   "outputs": [],
   "source": [
    "# join the all_players_df and all_player_stats_df objects\n",
    "all_players_df = all_players_df.join(all_player_stats_df)"
   ]
  },
  {
   "cell_type": "code",
   "execution_count": 39,
   "metadata": {},
   "outputs": [
    {
     "data": {
      "text/html": [
       "<div>\n",
       "<style scoped>\n",
       "    .dataframe tbody tr th:only-of-type {\n",
       "        vertical-align: middle;\n",
       "    }\n",
       "\n",
       "    .dataframe tbody tr th {\n",
       "        vertical-align: top;\n",
       "    }\n",
       "\n",
       "    .dataframe thead th {\n",
       "        text-align: right;\n",
       "    }\n",
       "</style>\n",
       "<table border=\"1\" class=\"dataframe\">\n",
       "  <thead>\n",
       "    <tr style=\"text-align: right;\">\n",
       "      <th></th>\n",
       "      <th>Name</th>\n",
       "      <th>POS</th>\n",
       "      <th>Age</th>\n",
       "      <th>HT</th>\n",
       "      <th>WT</th>\n",
       "      <th>College</th>\n",
       "      <th>Salary</th>\n",
       "      <th>Team</th>\n",
       "      <th>id</th>\n",
       "      <th>url</th>\n",
       "      <th>...</th>\n",
       "      <th>FG%</th>\n",
       "      <th>3P%</th>\n",
       "      <th>FT%</th>\n",
       "      <th>REB</th>\n",
       "      <th>AST</th>\n",
       "      <th>BLK</th>\n",
       "      <th>STL</th>\n",
       "      <th>PF</th>\n",
       "      <th>TO</th>\n",
       "      <th>PTS</th>\n",
       "    </tr>\n",
       "  </thead>\n",
       "  <tbody>\n",
       "    <tr>\n",
       "      <th>Malcolm Brogdon</th>\n",
       "      <td>Malcolm Brogdon</td>\n",
       "      <td>PG</td>\n",
       "      <td>29</td>\n",
       "      <td>6' 5\"</td>\n",
       "      <td>229 lbs</td>\n",
       "      <td>Virginia</td>\n",
       "      <td>$21,700,000</td>\n",
       "      <td>boston-celtics</td>\n",
       "      <td>2566769</td>\n",
       "      <td>https://www.espn.com/nba/player/_/id/2566769/m...</td>\n",
       "      <td>...</td>\n",
       "      <td>46.4</td>\n",
       "      <td>37.6</td>\n",
       "      <td>88.1</td>\n",
       "      <td>4.2</td>\n",
       "      <td>4.8</td>\n",
       "      <td>0.2</td>\n",
       "      <td>0.9</td>\n",
       "      <td>1.9</td>\n",
       "      <td>1.8</td>\n",
       "      <td>15.5</td>\n",
       "    </tr>\n",
       "    <tr>\n",
       "      <th>Jaylen Brown</th>\n",
       "      <td>Jaylen Brown</td>\n",
       "      <td>SG</td>\n",
       "      <td>25</td>\n",
       "      <td>6' 6\"</td>\n",
       "      <td>223 lbs</td>\n",
       "      <td>California</td>\n",
       "      <td>$26,758,928</td>\n",
       "      <td>boston-celtics</td>\n",
       "      <td>3917376</td>\n",
       "      <td>https://www.espn.com/nba/player/_/id/3917376/j...</td>\n",
       "      <td>...</td>\n",
       "      <td>47.3</td>\n",
       "      <td>37.3</td>\n",
       "      <td>71.2</td>\n",
       "      <td>4.9</td>\n",
       "      <td>2.0</td>\n",
       "      <td>0.4</td>\n",
       "      <td>0.9</td>\n",
       "      <td>2.5</td>\n",
       "      <td>1.9</td>\n",
       "      <td>16.5</td>\n",
       "    </tr>\n",
       "    <tr>\n",
       "      <th>Bruno Caboclo</th>\n",
       "      <td>Bruno Caboclo</td>\n",
       "      <td>F</td>\n",
       "      <td>26</td>\n",
       "      <td>6' 9\"</td>\n",
       "      <td>218 lbs</td>\n",
       "      <td>--</td>\n",
       "      <td>--</td>\n",
       "      <td>boston-celtics</td>\n",
       "      <td>3113297</td>\n",
       "      <td>https://www.espn.com/nba/player/_/id/3113297/b...</td>\n",
       "      <td>...</td>\n",
       "      <td>40.3</td>\n",
       "      <td>30.8</td>\n",
       "      <td>83.6</td>\n",
       "      <td>2.6</td>\n",
       "      <td>0.7</td>\n",
       "      <td>0.6</td>\n",
       "      <td>0.3</td>\n",
       "      <td>1.3</td>\n",
       "      <td>0.7</td>\n",
       "      <td>4.2</td>\n",
       "    </tr>\n",
       "    <tr>\n",
       "      <th>JD Davison</th>\n",
       "      <td>JD Davison</td>\n",
       "      <td>G</td>\n",
       "      <td>19</td>\n",
       "      <td>6' 3\"</td>\n",
       "      <td>195 lbs</td>\n",
       "      <td>Alabama</td>\n",
       "      <td>--</td>\n",
       "      <td>boston-celtics</td>\n",
       "      <td>4576085</td>\n",
       "      <td>https://www.espn.com/nba/player/_/id/4576085/j...</td>\n",
       "      <td>...</td>\n",
       "      <td>NaN</td>\n",
       "      <td>NaN</td>\n",
       "      <td>NaN</td>\n",
       "      <td>NaN</td>\n",
       "      <td>NaN</td>\n",
       "      <td>NaN</td>\n",
       "      <td>NaN</td>\n",
       "      <td>NaN</td>\n",
       "      <td>NaN</td>\n",
       "      <td>NaN</td>\n",
       "    </tr>\n",
       "    <tr>\n",
       "      <th>Danilo Gallinari</th>\n",
       "      <td>Danilo Gallinari</td>\n",
       "      <td>F</td>\n",
       "      <td>34</td>\n",
       "      <td>6' 10\"</td>\n",
       "      <td>236 lbs</td>\n",
       "      <td>--</td>\n",
       "      <td>$20,475,000</td>\n",
       "      <td>boston-celtics</td>\n",
       "      <td>3428</td>\n",
       "      <td>https://www.espn.com/nba/player/_/id/3428/dani...</td>\n",
       "      <td>...</td>\n",
       "      <td>42.8</td>\n",
       "      <td>38.2</td>\n",
       "      <td>87.7</td>\n",
       "      <td>4.8</td>\n",
       "      <td>1.9</td>\n",
       "      <td>0.4</td>\n",
       "      <td>0.7</td>\n",
       "      <td>1.8</td>\n",
       "      <td>1.2</td>\n",
       "      <td>15.6</td>\n",
       "    </tr>\n",
       "  </tbody>\n",
       "</table>\n",
       "<p>5 rows × 23 columns</p>\n",
       "</div>"
      ],
      "text/plain": [
       "                              Name POS Age      HT       WT     College  \\\n",
       "Malcolm Brogdon    Malcolm Brogdon  PG  29   6' 5\"  229 lbs    Virginia   \n",
       "Jaylen Brown          Jaylen Brown  SG  25   6' 6\"  223 lbs  California   \n",
       "Bruno Caboclo        Bruno Caboclo   F  26   6' 9\"  218 lbs          --   \n",
       "JD Davison              JD Davison   G  19   6' 3\"  195 lbs     Alabama   \n",
       "Danilo Gallinari  Danilo Gallinari   F  34  6' 10\"  236 lbs          --   \n",
       "\n",
       "                       Salary            Team       id  \\\n",
       "Malcolm Brogdon   $21,700,000  boston-celtics  2566769   \n",
       "Jaylen Brown      $26,758,928  boston-celtics  3917376   \n",
       "Bruno Caboclo              --  boston-celtics  3113297   \n",
       "JD Davison                 --  boston-celtics  4576085   \n",
       "Danilo Gallinari  $20,475,000  boston-celtics     3428   \n",
       "\n",
       "                                                                url  ...  \\\n",
       "Malcolm Brogdon   https://www.espn.com/nba/player/_/id/2566769/m...  ...   \n",
       "Jaylen Brown      https://www.espn.com/nba/player/_/id/3917376/j...  ...   \n",
       "Bruno Caboclo     https://www.espn.com/nba/player/_/id/3113297/b...  ...   \n",
       "JD Davison        https://www.espn.com/nba/player/_/id/4576085/j...  ...   \n",
       "Danilo Gallinari  https://www.espn.com/nba/player/_/id/3428/dani...  ...   \n",
       "\n",
       "                   FG%   3P%   FT%  REB  AST  BLK  STL   PF   TO   PTS  \n",
       "Malcolm Brogdon   46.4  37.6  88.1  4.2  4.8  0.2  0.9  1.9  1.8  15.5  \n",
       "Jaylen Brown      47.3  37.3  71.2  4.9  2.0  0.4  0.9  2.5  1.9  16.5  \n",
       "Bruno Caboclo     40.3  30.8  83.6  2.6  0.7  0.6  0.3  1.3  0.7   4.2  \n",
       "JD Davison         NaN   NaN   NaN  NaN  NaN  NaN  NaN  NaN  NaN   NaN  \n",
       "Danilo Gallinari  42.8  38.2  87.7  4.8  1.9  0.4  0.7  1.8  1.2  15.6  \n",
       "\n",
       "[5 rows x 23 columns]"
      ]
     },
     "execution_count": 39,
     "metadata": {},
     "output_type": "execute_result"
    }
   ],
   "source": [
    "# display part of the complete dataset\n",
    "all_players_df.head(5)"
   ]
  },
  {
   "cell_type": "markdown",
   "metadata": {},
   "source": [
    "## We now have a complete dataset of biographical information and career stats for every player in the NBA!!!\n",
    "\n",
    "#### We have some cleaning to do, but in case you are interested in playing around with this raw dataset, you can save it as a local csv below."
   ]
  },
  {
   "cell_type": "code",
   "execution_count": 40,
   "metadata": {},
   "outputs": [],
   "source": [
    "all_players_df.to_csv(\"Aug_2022_NBA_players_full_dataset_raw.csv\")"
   ]
  },
  {
   "cell_type": "markdown",
   "metadata": {},
   "source": [
    "#### To calculate statistics from this dataset, we will need to convert each of the stats and player biometrics above to numerical values rather than strings"
   ]
  },
  {
   "cell_type": "code",
   "execution_count": 41,
   "metadata": {},
   "outputs": [
    {
     "data": {
      "text/plain": [
       "Malcolm Brogdon     $21,700,000\n",
       "Jaylen Brown        $26,758,928\n",
       "Bruno Caboclo                --\n",
       "JD Davison                   --\n",
       "Danilo Gallinari    $20,475,000\n",
       "Name: Salary, dtype: object"
      ]
     },
     "execution_count": 41,
     "metadata": {},
     "output_type": "execute_result"
    }
   ],
   "source": [
    "# display salaries in default format\n",
    "\n",
    "all_players_df['Salary'].head(5)"
   ]
  },
  {
   "cell_type": "code",
   "execution_count": 42,
   "metadata": {},
   "outputs": [],
   "source": [
    "# convert empty salaries to 0s\n",
    "all_players_df['Salary'] = [re.sub(r'--', '$0', x) if isinstance(x, str) else x for x in all_players_df['Salary'].values]\n",
    "\n",
    "\n",
    "# convert salaries to numerical values using list comprehension\n",
    "all_players_df['Salary'] = [int(re.sub(r'[^\\d]+', '', x)) if isinstance(x, str) else x for x in all_players_df['Salary'].values]\n"
   ]
  },
  {
   "cell_type": "code",
   "execution_count": 43,
   "metadata": {},
   "outputs": [
    {
     "data": {
      "text/plain": [
       "Malcolm Brogdon     21700000.0\n",
       "Jaylen Brown        26758928.0\n",
       "Bruno Caboclo              0.0\n",
       "JD Davison                 0.0\n",
       "Danilo Gallinari    20475000.0\n",
       "Name: Salary, dtype: float64"
      ]
     },
     "execution_count": 43,
     "metadata": {},
     "output_type": "execute_result"
    }
   ],
   "source": [
    "# display salaries in cleaned format\n",
    "\n",
    "all_players_df['Salary'].head(5)"
   ]
  },
  {
   "cell_type": "code",
   "execution_count": 44,
   "metadata": {},
   "outputs": [
    {
     "data": {
      "text/plain": [
       "Malcolm Brogdon     29\n",
       "Jaylen Brown        25\n",
       "Bruno Caboclo       26\n",
       "JD Davison          19\n",
       "Danilo Gallinari    34\n",
       "Name: Age, dtype: object"
      ]
     },
     "execution_count": 44,
     "metadata": {},
     "output_type": "execute_result"
    }
   ],
   "source": [
    "# display ages in default format\n",
    "\n",
    "all_players_df['Age'].head(5)"
   ]
  },
  {
   "cell_type": "code",
   "execution_count": 45,
   "metadata": {},
   "outputs": [],
   "source": [
    "# convert empty ages to 0s\n",
    "all_players_df['Age'] = [re.sub(r'--', '0', x) if isinstance(x, str) else x for x in all_players_df['Age'].values]\n",
    "\n",
    "\n",
    "# convert salaries to numerical values using list comprehension\n",
    "all_players_df['Age'] = [int(x) if isinstance(x, str) else x for x in all_players_df['Age'].values]\n"
   ]
  },
  {
   "cell_type": "code",
   "execution_count": 46,
   "metadata": {},
   "outputs": [
    {
     "data": {
      "text/plain": [
       "Malcolm Brogdon     29\n",
       "Jaylen Brown        25\n",
       "Bruno Caboclo       26\n",
       "JD Davison          19\n",
       "Danilo Gallinari    34\n",
       "Name: Age, dtype: int64"
      ]
     },
     "execution_count": 46,
     "metadata": {},
     "output_type": "execute_result"
    }
   ],
   "source": [
    "# display ages in cleaned format\n",
    "\n",
    "all_players_df['Age'].head(5)"
   ]
  },
  {
   "cell_type": "code",
   "execution_count": 47,
   "metadata": {},
   "outputs": [
    {
     "data": {
      "text/plain": [
       "Malcolm Brogdon      6' 5\"\n",
       "Jaylen Brown         6' 6\"\n",
       "Bruno Caboclo        6' 9\"\n",
       "JD Davison           6' 3\"\n",
       "Danilo Gallinari    6' 10\"\n",
       "Name: HT, dtype: object"
      ]
     },
     "execution_count": 47,
     "metadata": {},
     "output_type": "execute_result"
    }
   ],
   "source": [
    "# display heights in default format\n",
    "\n",
    "all_players_df['HT'].head(5)"
   ]
  },
  {
   "cell_type": "code",
   "execution_count": 48,
   "metadata": {},
   "outputs": [],
   "source": [
    "# define a function that takes a string in ft' in\" format and converts to total inches as a numerical value\n",
    "\n",
    "def convert_height(height):\n",
    "    height_splits = height.split()\n",
    "    feet = float(height_splits[0].replace(\"\\'\",\"\"))\n",
    "    inches = float(height_splits[1].replace(\"\\\"\",\"\"))\n",
    "    return (12*feet + inches)"
   ]
  },
  {
   "cell_type": "code",
   "execution_count": 49,
   "metadata": {},
   "outputs": [],
   "source": [
    "# convert heights to numerical values using list comprehension\n",
    "\n",
    "all_players_df['HT'] = [float(convert_height(x)) if isinstance(x, str) else x for x in all_players_df['HT'].values]"
   ]
  },
  {
   "cell_type": "code",
   "execution_count": 50,
   "metadata": {},
   "outputs": [
    {
     "data": {
      "text/plain": [
       "Malcolm Brogdon     77.0\n",
       "Jaylen Brown        78.0\n",
       "Bruno Caboclo       81.0\n",
       "JD Davison          75.0\n",
       "Danilo Gallinari    82.0\n",
       "Name: HT, dtype: float64"
      ]
     },
     "execution_count": 50,
     "metadata": {},
     "output_type": "execute_result"
    }
   ],
   "source": [
    "# display heights in cleaned format\n",
    "\n",
    "all_players_df['HT'].head(5)"
   ]
  },
  {
   "cell_type": "code",
   "execution_count": 51,
   "metadata": {},
   "outputs": [
    {
     "data": {
      "text/plain": [
       "Malcolm Brogdon     229 lbs\n",
       "Jaylen Brown        223 lbs\n",
       "Bruno Caboclo       218 lbs\n",
       "JD Davison          195 lbs\n",
       "Danilo Gallinari    236 lbs\n",
       "Name: WT, dtype: object"
      ]
     },
     "execution_count": 51,
     "metadata": {},
     "output_type": "execute_result"
    }
   ],
   "source": [
    "# display weights in default format\n",
    "\n",
    "all_players_df['WT'].head(5)"
   ]
  },
  {
   "cell_type": "code",
   "execution_count": 52,
   "metadata": {},
   "outputs": [],
   "source": [
    "# next, convert weights to numerical values with list comprehension\n",
    "\n",
    "all_players_df['WT'] = [float(x.split(\" \")[0]) if isinstance(x, str) else x for x in all_players_df['WT'].values]"
   ]
  },
  {
   "cell_type": "code",
   "execution_count": 53,
   "metadata": {},
   "outputs": [
    {
     "data": {
      "text/plain": [
       "Malcolm Brogdon     229.0\n",
       "Jaylen Brown        223.0\n",
       "Bruno Caboclo       218.0\n",
       "JD Davison          195.0\n",
       "Danilo Gallinari    236.0\n",
       "Name: WT, dtype: float64"
      ]
     },
     "execution_count": 53,
     "metadata": {},
     "output_type": "execute_result"
    }
   ],
   "source": [
    "# display weights in cleaned format\n",
    "\n",
    "all_players_df['WT'].head(5)"
   ]
  },
  {
   "cell_type": "code",
   "execution_count": 54,
   "metadata": {},
   "outputs": [
    {
     "data": {
      "text/plain": [
       "Name        object\n",
       "POS         object\n",
       "Age          int64\n",
       "HT         float64\n",
       "WT         float64\n",
       "College     object\n",
       "Salary     float64\n",
       "Team        object\n",
       "id          object\n",
       "url         object\n",
       "Stats       object\n",
       "GP          object\n",
       "MIN         object\n",
       "FG%         object\n",
       "3P%         object\n",
       "FT%         object\n",
       "REB         object\n",
       "AST         object\n",
       "BLK         object\n",
       "STL         object\n",
       "PF          object\n",
       "TO          object\n",
       "PTS         object\n",
       "dtype: object"
      ]
     },
     "execution_count": 54,
     "metadata": {},
     "output_type": "execute_result"
    }
   ],
   "source": [
    "# at this point, we should check the remaining columns to make sure they are the types we expect\n",
    "\n",
    "all_players_df.dtypes"
   ]
  },
  {
   "cell_type": "markdown",
   "metadata": {},
   "source": [
    "#### We realize that all of the career stats we pulled are of type 'object' (e.g., recognized as strings) rather than ints or floats. Luckily we can apply a pretty quick transformation to each of these columns to case as the appropriate type."
   ]
  },
  {
   "cell_type": "code",
   "execution_count": 55,
   "metadata": {},
   "outputs": [],
   "source": [
    "# define dictionary of desired columns and types\n",
    "stat_types = {\n",
    "    'GP': 'float64',\n",
    "    'MIN': 'float64',\n",
    "    'FG%': 'float64',\n",
    "    '3P%': 'float64',\n",
    "    'FT%': 'float64',\n",
    "    'REB': 'float64',\n",
    "    'AST': 'float64',\n",
    "    'BLK': 'float64',\n",
    "    'STL': 'float64',\n",
    "    'PF': 'float64',\n",
    "    'TO': 'float64',\n",
    "    'PTS': 'float64'\n",
    "}\n",
    "\n",
    "# convert all stats columns to floats using the above dictionary (in-place)\n",
    "all_players_df = all_players_df.astype(dtype=stat_types, copy=False, errors='raise')"
   ]
  },
  {
   "cell_type": "markdown",
   "metadata": {},
   "source": [
    "#### At this point, all of our metrics of interest should be in numerical form throughout the dataframe."
   ]
  },
  {
   "cell_type": "code",
   "execution_count": 56,
   "metadata": {},
   "outputs": [
    {
     "data": {
      "text/plain": [
       "Name        object\n",
       "POS         object\n",
       "Age          int64\n",
       "HT         float64\n",
       "WT         float64\n",
       "College     object\n",
       "Salary     float64\n",
       "Team        object\n",
       "id          object\n",
       "url         object\n",
       "Stats       object\n",
       "GP         float64\n",
       "MIN        float64\n",
       "FG%        float64\n",
       "3P%        float64\n",
       "FT%        float64\n",
       "REB        float64\n",
       "AST        float64\n",
       "BLK        float64\n",
       "STL        float64\n",
       "PF         float64\n",
       "TO         float64\n",
       "PTS        float64\n",
       "dtype: object"
      ]
     },
     "execution_count": 56,
     "metadata": {},
     "output_type": "execute_result"
    }
   ],
   "source": [
    "# re-check field types\n",
    "\n",
    "all_players_df.dtypes"
   ]
  },
  {
   "cell_type": "markdown",
   "metadata": {},
   "source": [
    "#### I'll save this file one more time before analysis for anyone interested in playing around with it. Locally, you can also read in the data from this csv to your own pandas dataframe to conduct analysis."
   ]
  },
  {
   "cell_type": "code",
   "execution_count": 57,
   "metadata": {},
   "outputs": [],
   "source": [
    "# export cleaned dataset as csv\n",
    "all_players_df.to_csv('Aug_2022_NBA_players_full_dataset_cleaned.csv')\n",
    "\n",
    "# read in the dataset to dataframe from a csv\n",
    "# your_df = pd.read_csv('Aug_2022_NBA_players_full_dataset_cleaned.csv', index_col=0)"
   ]
  },
  {
   "cell_type": "markdown",
   "metadata": {},
   "source": [
    "## Part 2: Data Analysis\n"
   ]
  },
  {
   "cell_type": "markdown",
   "metadata": {},
   "source": [
    "#### There are many different statistics we could find for this dataset. For this project, I'll aim to avoid any basic queries that you could find from going to espn.com and using the built in sorts and filters\n",
    "\n",
    "#### First, let's take a quick look at team-wide stats"
   ]
  },
  {
   "cell_type": "code",
   "execution_count": 58,
   "metadata": {},
   "outputs": [
    {
     "data": {
      "text/html": [
       "<div>\n",
       "<style scoped>\n",
       "    .dataframe tbody tr th:only-of-type {\n",
       "        vertical-align: middle;\n",
       "    }\n",
       "\n",
       "    .dataframe tbody tr th {\n",
       "        vertical-align: top;\n",
       "    }\n",
       "\n",
       "    .dataframe thead th {\n",
       "        text-align: right;\n",
       "    }\n",
       "</style>\n",
       "<table border=\"1\" class=\"dataframe\">\n",
       "  <thead>\n",
       "    <tr style=\"text-align: right;\">\n",
       "      <th></th>\n",
       "      <th>Age</th>\n",
       "      <th>HT</th>\n",
       "      <th>WT</th>\n",
       "      <th>Salary</th>\n",
       "      <th>GP</th>\n",
       "      <th>MIN</th>\n",
       "      <th>FG%</th>\n",
       "      <th>3P%</th>\n",
       "      <th>FT%</th>\n",
       "      <th>REB</th>\n",
       "      <th>AST</th>\n",
       "      <th>BLK</th>\n",
       "      <th>STL</th>\n",
       "      <th>PF</th>\n",
       "      <th>TO</th>\n",
       "      <th>PTS</th>\n",
       "    </tr>\n",
       "    <tr>\n",
       "      <th>Team</th>\n",
       "      <th></th>\n",
       "      <th></th>\n",
       "      <th></th>\n",
       "      <th></th>\n",
       "      <th></th>\n",
       "      <th></th>\n",
       "      <th></th>\n",
       "      <th></th>\n",
       "      <th></th>\n",
       "      <th></th>\n",
       "      <th></th>\n",
       "      <th></th>\n",
       "      <th></th>\n",
       "      <th></th>\n",
       "      <th></th>\n",
       "      <th></th>\n",
       "    </tr>\n",
       "  </thead>\n",
       "  <tbody>\n",
       "    <tr>\n",
       "      <th>atlanta-hawks</th>\n",
       "      <td>25.250000</td>\n",
       "      <td>77.700000</td>\n",
       "      <td>209.450000</td>\n",
       "      <td>6.128549e+06</td>\n",
       "      <td>298.777778</td>\n",
       "      <td>20.361111</td>\n",
       "      <td>45.316667</td>\n",
       "      <td>28.633333</td>\n",
       "      <td>73.500000</td>\n",
       "      <td>3.611111</td>\n",
       "      <td>2.038889</td>\n",
       "      <td>0.366667</td>\n",
       "      <td>0.627778</td>\n",
       "      <td>1.633333</td>\n",
       "      <td>1.127778</td>\n",
       "      <td>9.333333</td>\n",
       "    </tr>\n",
       "    <tr>\n",
       "      <th>boston-celtics</th>\n",
       "      <td>26.166667</td>\n",
       "      <td>79.111111</td>\n",
       "      <td>222.277778</td>\n",
       "      <td>9.141879e+06</td>\n",
       "      <td>282.117647</td>\n",
       "      <td>19.858824</td>\n",
       "      <td>43.900000</td>\n",
       "      <td>32.158824</td>\n",
       "      <td>69.658824</td>\n",
       "      <td>3.617647</td>\n",
       "      <td>1.870588</td>\n",
       "      <td>0.529412</td>\n",
       "      <td>0.652941</td>\n",
       "      <td>1.600000</td>\n",
       "      <td>0.988235</td>\n",
       "      <td>8.811765</td>\n",
       "    </tr>\n",
       "    <tr>\n",
       "      <th>brooklyn-nets</th>\n",
       "      <td>27.750000</td>\n",
       "      <td>78.250000</td>\n",
       "      <td>219.125000</td>\n",
       "      <td>1.092391e+07</td>\n",
       "      <td>417.400000</td>\n",
       "      <td>25.033333</td>\n",
       "      <td>48.960000</td>\n",
       "      <td>32.500000</td>\n",
       "      <td>76.186667</td>\n",
       "      <td>4.546667</td>\n",
       "      <td>2.506667</td>\n",
       "      <td>0.486667</td>\n",
       "      <td>0.786667</td>\n",
       "      <td>1.993333</td>\n",
       "      <td>1.460000</td>\n",
       "      <td>12.720000</td>\n",
       "    </tr>\n",
       "    <tr>\n",
       "      <th>charlotte-hornets</th>\n",
       "      <td>24.526316</td>\n",
       "      <td>79.052632</td>\n",
       "      <td>211.368421</td>\n",
       "      <td>5.795680e+06</td>\n",
       "      <td>259.352941</td>\n",
       "      <td>18.570588</td>\n",
       "      <td>42.988235</td>\n",
       "      <td>26.429412</td>\n",
       "      <td>66.164706</td>\n",
       "      <td>3.323529</td>\n",
       "      <td>1.964706</td>\n",
       "      <td>0.376471</td>\n",
       "      <td>0.635294</td>\n",
       "      <td>1.588235</td>\n",
       "      <td>1.076471</td>\n",
       "      <td>8.564706</td>\n",
       "    </tr>\n",
       "    <tr>\n",
       "      <th>chicago-bulls</th>\n",
       "      <td>26.368421</td>\n",
       "      <td>78.578947</td>\n",
       "      <td>217.473684</td>\n",
       "      <td>6.917118e+06</td>\n",
       "      <td>342.722222</td>\n",
       "      <td>22.233333</td>\n",
       "      <td>48.172222</td>\n",
       "      <td>34.388889</td>\n",
       "      <td>71.694444</td>\n",
       "      <td>4.433333</td>\n",
       "      <td>2.100000</td>\n",
       "      <td>0.444444</td>\n",
       "      <td>0.733333</td>\n",
       "      <td>1.872222</td>\n",
       "      <td>1.272222</td>\n",
       "      <td>9.633333</td>\n",
       "    </tr>\n",
       "  </tbody>\n",
       "</table>\n",
       "</div>"
      ],
      "text/plain": [
       "                         Age         HT          WT        Salary          GP  \\\n",
       "Team                                                                            \n",
       "atlanta-hawks      25.250000  77.700000  209.450000  6.128549e+06  298.777778   \n",
       "boston-celtics     26.166667  79.111111  222.277778  9.141879e+06  282.117647   \n",
       "brooklyn-nets      27.750000  78.250000  219.125000  1.092391e+07  417.400000   \n",
       "charlotte-hornets  24.526316  79.052632  211.368421  5.795680e+06  259.352941   \n",
       "chicago-bulls      26.368421  78.578947  217.473684  6.917118e+06  342.722222   \n",
       "\n",
       "                         MIN        FG%        3P%        FT%       REB  \\\n",
       "Team                                                                      \n",
       "atlanta-hawks      20.361111  45.316667  28.633333  73.500000  3.611111   \n",
       "boston-celtics     19.858824  43.900000  32.158824  69.658824  3.617647   \n",
       "brooklyn-nets      25.033333  48.960000  32.500000  76.186667  4.546667   \n",
       "charlotte-hornets  18.570588  42.988235  26.429412  66.164706  3.323529   \n",
       "chicago-bulls      22.233333  48.172222  34.388889  71.694444  4.433333   \n",
       "\n",
       "                        AST       BLK       STL        PF        TO        PTS  \n",
       "Team                                                                            \n",
       "atlanta-hawks      2.038889  0.366667  0.627778  1.633333  1.127778   9.333333  \n",
       "boston-celtics     1.870588  0.529412  0.652941  1.600000  0.988235   8.811765  \n",
       "brooklyn-nets      2.506667  0.486667  0.786667  1.993333  1.460000  12.720000  \n",
       "charlotte-hornets  1.964706  0.376471  0.635294  1.588235  1.076471   8.564706  \n",
       "chicago-bulls      2.100000  0.444444  0.733333  1.872222  1.272222   9.633333  "
      ]
     },
     "execution_count": 58,
     "metadata": {},
     "output_type": "execute_result"
    }
   ],
   "source": [
    "# find the mean values of each metric for every team (note: all non-float columns are automatically dropped)\n",
    "\n",
    "team_means_df = all_players_df.groupby(by='Team').mean()\n",
    "\n",
    "team_means_df.head(5)\n"
   ]
  },
  {
   "cell_type": "code",
   "execution_count": 59,
   "metadata": {},
   "outputs": [
    {
     "data": {
      "text/html": [
       "<div>\n",
       "<style scoped>\n",
       "    .dataframe tbody tr th:only-of-type {\n",
       "        vertical-align: middle;\n",
       "    }\n",
       "\n",
       "    .dataframe tbody tr th {\n",
       "        vertical-align: top;\n",
       "    }\n",
       "\n",
       "    .dataframe thead th {\n",
       "        text-align: right;\n",
       "    }\n",
       "</style>\n",
       "<table border=\"1\" class=\"dataframe\">\n",
       "  <thead>\n",
       "    <tr style=\"text-align: right;\">\n",
       "      <th></th>\n",
       "      <th>Age</th>\n",
       "      <th>HT</th>\n",
       "      <th>WT</th>\n",
       "      <th>Salary</th>\n",
       "      <th>GP</th>\n",
       "      <th>MIN</th>\n",
       "      <th>FG%</th>\n",
       "      <th>3P%</th>\n",
       "      <th>FT%</th>\n",
       "      <th>REB</th>\n",
       "      <th>AST</th>\n",
       "      <th>BLK</th>\n",
       "      <th>STL</th>\n",
       "      <th>PF</th>\n",
       "      <th>TO</th>\n",
       "      <th>PTS</th>\n",
       "    </tr>\n",
       "    <tr>\n",
       "      <th>Team</th>\n",
       "      <th></th>\n",
       "      <th></th>\n",
       "      <th></th>\n",
       "      <th></th>\n",
       "      <th></th>\n",
       "      <th></th>\n",
       "      <th></th>\n",
       "      <th></th>\n",
       "      <th></th>\n",
       "      <th></th>\n",
       "      <th></th>\n",
       "      <th></th>\n",
       "      <th></th>\n",
       "      <th></th>\n",
       "      <th></th>\n",
       "      <th></th>\n",
       "    </tr>\n",
       "  </thead>\n",
       "  <tbody>\n",
       "    <tr>\n",
       "      <th>atlanta-hawks</th>\n",
       "      <td>505</td>\n",
       "      <td>1554.0</td>\n",
       "      <td>4189.0</td>\n",
       "      <td>122570986.0</td>\n",
       "      <td>5378.0</td>\n",
       "      <td>366.5</td>\n",
       "      <td>815.7</td>\n",
       "      <td>515.4</td>\n",
       "      <td>1323.0</td>\n",
       "      <td>65.0</td>\n",
       "      <td>36.7</td>\n",
       "      <td>6.6</td>\n",
       "      <td>11.3</td>\n",
       "      <td>29.4</td>\n",
       "      <td>20.3</td>\n",
       "      <td>168.0</td>\n",
       "    </tr>\n",
       "    <tr>\n",
       "      <th>boston-celtics</th>\n",
       "      <td>471</td>\n",
       "      <td>1424.0</td>\n",
       "      <td>4001.0</td>\n",
       "      <td>164553816.0</td>\n",
       "      <td>4796.0</td>\n",
       "      <td>337.6</td>\n",
       "      <td>746.3</td>\n",
       "      <td>546.7</td>\n",
       "      <td>1184.2</td>\n",
       "      <td>61.5</td>\n",
       "      <td>31.8</td>\n",
       "      <td>9.0</td>\n",
       "      <td>11.1</td>\n",
       "      <td>27.2</td>\n",
       "      <td>16.8</td>\n",
       "      <td>149.8</td>\n",
       "    </tr>\n",
       "    <tr>\n",
       "      <th>brooklyn-nets</th>\n",
       "      <td>444</td>\n",
       "      <td>1252.0</td>\n",
       "      <td>3506.0</td>\n",
       "      <td>174782494.0</td>\n",
       "      <td>6261.0</td>\n",
       "      <td>375.5</td>\n",
       "      <td>734.4</td>\n",
       "      <td>487.5</td>\n",
       "      <td>1142.8</td>\n",
       "      <td>68.2</td>\n",
       "      <td>37.6</td>\n",
       "      <td>7.3</td>\n",
       "      <td>11.8</td>\n",
       "      <td>29.9</td>\n",
       "      <td>21.9</td>\n",
       "      <td>190.8</td>\n",
       "    </tr>\n",
       "    <tr>\n",
       "      <th>charlotte-hornets</th>\n",
       "      <td>466</td>\n",
       "      <td>1502.0</td>\n",
       "      <td>4016.0</td>\n",
       "      <td>110117912.0</td>\n",
       "      <td>4409.0</td>\n",
       "      <td>315.7</td>\n",
       "      <td>730.8</td>\n",
       "      <td>449.3</td>\n",
       "      <td>1124.8</td>\n",
       "      <td>56.5</td>\n",
       "      <td>33.4</td>\n",
       "      <td>6.4</td>\n",
       "      <td>10.8</td>\n",
       "      <td>27.0</td>\n",
       "      <td>18.3</td>\n",
       "      <td>145.6</td>\n",
       "    </tr>\n",
       "    <tr>\n",
       "      <th>chicago-bulls</th>\n",
       "      <td>501</td>\n",
       "      <td>1493.0</td>\n",
       "      <td>4132.0</td>\n",
       "      <td>131425246.0</td>\n",
       "      <td>6169.0</td>\n",
       "      <td>400.2</td>\n",
       "      <td>867.1</td>\n",
       "      <td>619.0</td>\n",
       "      <td>1290.5</td>\n",
       "      <td>79.8</td>\n",
       "      <td>37.8</td>\n",
       "      <td>8.0</td>\n",
       "      <td>13.2</td>\n",
       "      <td>33.7</td>\n",
       "      <td>22.9</td>\n",
       "      <td>173.4</td>\n",
       "    </tr>\n",
       "    <tr>\n",
       "      <th>cleveland-cavaliers</th>\n",
       "      <td>648</td>\n",
       "      <td>1958.0</td>\n",
       "      <td>5382.0</td>\n",
       "      <td>154225452.0</td>\n",
       "      <td>7190.0</td>\n",
       "      <td>480.8</td>\n",
       "      <td>964.1</td>\n",
       "      <td>580.6</td>\n",
       "      <td>1556.2</td>\n",
       "      <td>89.8</td>\n",
       "      <td>53.8</td>\n",
       "      <td>8.7</td>\n",
       "      <td>15.1</td>\n",
       "      <td>37.5</td>\n",
       "      <td>28.9</td>\n",
       "      <td>202.9</td>\n",
       "    </tr>\n",
       "    <tr>\n",
       "      <th>dallas-mavericks</th>\n",
       "      <td>462</td>\n",
       "      <td>1338.0</td>\n",
       "      <td>3677.0</td>\n",
       "      <td>121510554.0</td>\n",
       "      <td>5353.0</td>\n",
       "      <td>327.9</td>\n",
       "      <td>693.5</td>\n",
       "      <td>494.8</td>\n",
       "      <td>1239.5</td>\n",
       "      <td>57.6</td>\n",
       "      <td>32.4</td>\n",
       "      <td>6.6</td>\n",
       "      <td>9.0</td>\n",
       "      <td>27.1</td>\n",
       "      <td>18.2</td>\n",
       "      <td>148.6</td>\n",
       "    </tr>\n",
       "    <tr>\n",
       "      <th>denver-nuggets</th>\n",
       "      <td>503</td>\n",
       "      <td>1479.0</td>\n",
       "      <td>4164.0</td>\n",
       "      <td>115137949.0</td>\n",
       "      <td>6380.0</td>\n",
       "      <td>349.3</td>\n",
       "      <td>745.8</td>\n",
       "      <td>541.7</td>\n",
       "      <td>1205.8</td>\n",
       "      <td>72.0</td>\n",
       "      <td>35.2</td>\n",
       "      <td>7.3</td>\n",
       "      <td>11.5</td>\n",
       "      <td>30.4</td>\n",
       "      <td>20.5</td>\n",
       "      <td>161.1</td>\n",
       "    </tr>\n",
       "    <tr>\n",
       "      <th>detroit-pistons</th>\n",
       "      <td>565</td>\n",
       "      <td>1879.0</td>\n",
       "      <td>5117.0</td>\n",
       "      <td>97375817.0</td>\n",
       "      <td>4916.0</td>\n",
       "      <td>425.3</td>\n",
       "      <td>873.2</td>\n",
       "      <td>639.9</td>\n",
       "      <td>1448.2</td>\n",
       "      <td>77.6</td>\n",
       "      <td>38.9</td>\n",
       "      <td>9.5</td>\n",
       "      <td>13.9</td>\n",
       "      <td>38.6</td>\n",
       "      <td>23.9</td>\n",
       "      <td>177.7</td>\n",
       "    </tr>\n",
       "    <tr>\n",
       "      <th>golden-state-warriors</th>\n",
       "      <td>496</td>\n",
       "      <td>1480.0</td>\n",
       "      <td>3976.0</td>\n",
       "      <td>181117346.0</td>\n",
       "      <td>5963.0</td>\n",
       "      <td>349.2</td>\n",
       "      <td>739.3</td>\n",
       "      <td>533.1</td>\n",
       "      <td>1241.8</td>\n",
       "      <td>60.8</td>\n",
       "      <td>35.7</td>\n",
       "      <td>6.8</td>\n",
       "      <td>12.0</td>\n",
       "      <td>32.7</td>\n",
       "      <td>22.3</td>\n",
       "      <td>160.7</td>\n",
       "    </tr>\n",
       "    <tr>\n",
       "      <th>houston-rockets</th>\n",
       "      <td>505</td>\n",
       "      <td>1633.0</td>\n",
       "      <td>4602.0</td>\n",
       "      <td>65399991.0</td>\n",
       "      <td>3909.0</td>\n",
       "      <td>358.9</td>\n",
       "      <td>816.1</td>\n",
       "      <td>554.4</td>\n",
       "      <td>1319.9</td>\n",
       "      <td>60.0</td>\n",
       "      <td>34.6</td>\n",
       "      <td>6.3</td>\n",
       "      <td>11.3</td>\n",
       "      <td>32.4</td>\n",
       "      <td>22.5</td>\n",
       "      <td>156.0</td>\n",
       "    </tr>\n",
       "    <tr>\n",
       "      <th>indiana-pacers</th>\n",
       "      <td>488</td>\n",
       "      <td>1564.0</td>\n",
       "      <td>4245.0</td>\n",
       "      <td>80905403.0</td>\n",
       "      <td>3198.0</td>\n",
       "      <td>307.4</td>\n",
       "      <td>735.3</td>\n",
       "      <td>504.7</td>\n",
       "      <td>1191.5</td>\n",
       "      <td>58.2</td>\n",
       "      <td>29.1</td>\n",
       "      <td>9.2</td>\n",
       "      <td>10.8</td>\n",
       "      <td>28.7</td>\n",
       "      <td>16.6</td>\n",
       "      <td>132.2</td>\n",
       "    </tr>\n",
       "    <tr>\n",
       "      <th>la-clippers</th>\n",
       "      <td>471</td>\n",
       "      <td>1329.0</td>\n",
       "      <td>3558.0</td>\n",
       "      <td>207134881.0</td>\n",
       "      <td>6706.0</td>\n",
       "      <td>368.8</td>\n",
       "      <td>680.4</td>\n",
       "      <td>523.1</td>\n",
       "      <td>1206.9</td>\n",
       "      <td>59.6</td>\n",
       "      <td>39.1</td>\n",
       "      <td>6.0</td>\n",
       "      <td>13.6</td>\n",
       "      <td>27.5</td>\n",
       "      <td>21.1</td>\n",
       "      <td>173.2</td>\n",
       "    </tr>\n",
       "    <tr>\n",
       "      <th>los-angeles-lakers</th>\n",
       "      <td>665</td>\n",
       "      <td>1875.0</td>\n",
       "      <td>5195.0</td>\n",
       "      <td>163321961.0</td>\n",
       "      <td>10344.0</td>\n",
       "      <td>478.7</td>\n",
       "      <td>940.2</td>\n",
       "      <td>665.2</td>\n",
       "      <td>1506.7</td>\n",
       "      <td>89.0</td>\n",
       "      <td>49.0</td>\n",
       "      <td>10.4</td>\n",
       "      <td>16.6</td>\n",
       "      <td>38.7</td>\n",
       "      <td>30.4</td>\n",
       "      <td>231.9</td>\n",
       "    </tr>\n",
       "    <tr>\n",
       "      <th>memphis-grizzlies</th>\n",
       "      <td>451</td>\n",
       "      <td>1491.0</td>\n",
       "      <td>4086.0</td>\n",
       "      <td>87581223.0</td>\n",
       "      <td>3466.0</td>\n",
       "      <td>305.7</td>\n",
       "      <td>678.6</td>\n",
       "      <td>463.0</td>\n",
       "      <td>1003.4</td>\n",
       "      <td>52.8</td>\n",
       "      <td>26.9</td>\n",
       "      <td>7.7</td>\n",
       "      <td>10.9</td>\n",
       "      <td>26.7</td>\n",
       "      <td>15.3</td>\n",
       "      <td>133.8</td>\n",
       "    </tr>\n",
       "    <tr>\n",
       "      <th>miami-heat</th>\n",
       "      <td>516</td>\n",
       "      <td>1492.0</td>\n",
       "      <td>4153.0</td>\n",
       "      <td>124245829.0</td>\n",
       "      <td>5455.0</td>\n",
       "      <td>339.9</td>\n",
       "      <td>663.6</td>\n",
       "      <td>448.5</td>\n",
       "      <td>1078.5</td>\n",
       "      <td>63.2</td>\n",
       "      <td>31.9</td>\n",
       "      <td>5.7</td>\n",
       "      <td>11.1</td>\n",
       "      <td>28.7</td>\n",
       "      <td>18.6</td>\n",
       "      <td>148.0</td>\n",
       "    </tr>\n",
       "    <tr>\n",
       "      <th>milwaukee-bucks</th>\n",
       "      <td>477</td>\n",
       "      <td>1332.0</td>\n",
       "      <td>3711.0</td>\n",
       "      <td>152883087.0</td>\n",
       "      <td>7248.0</td>\n",
       "      <td>334.7</td>\n",
       "      <td>692.5</td>\n",
       "      <td>533.1</td>\n",
       "      <td>1147.5</td>\n",
       "      <td>60.2</td>\n",
       "      <td>30.5</td>\n",
       "      <td>8.1</td>\n",
       "      <td>10.4</td>\n",
       "      <td>27.0</td>\n",
       "      <td>18.5</td>\n",
       "      <td>155.6</td>\n",
       "    </tr>\n",
       "    <tr>\n",
       "      <th>minnesota-timberwolves</th>\n",
       "      <td>523</td>\n",
       "      <td>1644.0</td>\n",
       "      <td>4562.0</td>\n",
       "      <td>149712064.0</td>\n",
       "      <td>5291.0</td>\n",
       "      <td>363.0</td>\n",
       "      <td>818.3</td>\n",
       "      <td>534.4</td>\n",
       "      <td>1195.6</td>\n",
       "      <td>70.4</td>\n",
       "      <td>33.2</td>\n",
       "      <td>9.3</td>\n",
       "      <td>11.4</td>\n",
       "      <td>30.4</td>\n",
       "      <td>21.3</td>\n",
       "      <td>171.7</td>\n",
       "    </tr>\n",
       "    <tr>\n",
       "      <th>new-orleans-pelicans</th>\n",
       "      <td>504</td>\n",
       "      <td>1561.0</td>\n",
       "      <td>4298.0</td>\n",
       "      <td>131254966.0</td>\n",
       "      <td>4711.0</td>\n",
       "      <td>359.6</td>\n",
       "      <td>788.3</td>\n",
       "      <td>577.8</td>\n",
       "      <td>1328.5</td>\n",
       "      <td>64.6</td>\n",
       "      <td>34.0</td>\n",
       "      <td>6.7</td>\n",
       "      <td>12.3</td>\n",
       "      <td>29.8</td>\n",
       "      <td>19.0</td>\n",
       "      <td>165.0</td>\n",
       "    </tr>\n",
       "    <tr>\n",
       "      <th>new-york-knicks</th>\n",
       "      <td>388</td>\n",
       "      <td>1248.0</td>\n",
       "      <td>3442.0</td>\n",
       "      <td>81749110.0</td>\n",
       "      <td>3460.0</td>\n",
       "      <td>308.8</td>\n",
       "      <td>676.3</td>\n",
       "      <td>414.4</td>\n",
       "      <td>1014.1</td>\n",
       "      <td>53.9</td>\n",
       "      <td>30.3</td>\n",
       "      <td>5.7</td>\n",
       "      <td>9.6</td>\n",
       "      <td>27.6</td>\n",
       "      <td>17.3</td>\n",
       "      <td>137.4</td>\n",
       "    </tr>\n",
       "    <tr>\n",
       "      <th>oklahoma-city-thunder</th>\n",
       "      <td>531</td>\n",
       "      <td>1826.0</td>\n",
       "      <td>4822.0</td>\n",
       "      <td>45143234.0</td>\n",
       "      <td>2679.0</td>\n",
       "      <td>400.0</td>\n",
       "      <td>805.9</td>\n",
       "      <td>615.2</td>\n",
       "      <td>1337.0</td>\n",
       "      <td>73.5</td>\n",
       "      <td>34.6</td>\n",
       "      <td>7.1</td>\n",
       "      <td>12.5</td>\n",
       "      <td>30.5</td>\n",
       "      <td>22.5</td>\n",
       "      <td>159.1</td>\n",
       "    </tr>\n",
       "    <tr>\n",
       "      <th>orlando-magic</th>\n",
       "      <td>444</td>\n",
       "      <td>1505.0</td>\n",
       "      <td>4173.0</td>\n",
       "      <td>105991682.0</td>\n",
       "      <td>2700.0</td>\n",
       "      <td>346.1</td>\n",
       "      <td>689.9</td>\n",
       "      <td>526.5</td>\n",
       "      <td>1220.2</td>\n",
       "      <td>59.2</td>\n",
       "      <td>32.2</td>\n",
       "      <td>7.5</td>\n",
       "      <td>11.5</td>\n",
       "      <td>29.6</td>\n",
       "      <td>19.6</td>\n",
       "      <td>145.8</td>\n",
       "    </tr>\n",
       "    <tr>\n",
       "      <th>philadelphia-76ers</th>\n",
       "      <td>478</td>\n",
       "      <td>1561.0</td>\n",
       "      <td>4322.0</td>\n",
       "      <td>152833381.0</td>\n",
       "      <td>5630.0</td>\n",
       "      <td>342.6</td>\n",
       "      <td>850.6</td>\n",
       "      <td>524.0</td>\n",
       "      <td>1349.8</td>\n",
       "      <td>62.8</td>\n",
       "      <td>31.2</td>\n",
       "      <td>9.1</td>\n",
       "      <td>12.7</td>\n",
       "      <td>30.3</td>\n",
       "      <td>19.4</td>\n",
       "      <td>160.5</td>\n",
       "    </tr>\n",
       "    <tr>\n",
       "      <th>phoenix-suns</th>\n",
       "      <td>492</td>\n",
       "      <td>1397.0</td>\n",
       "      <td>3867.0</td>\n",
       "      <td>128067452.0</td>\n",
       "      <td>6141.0</td>\n",
       "      <td>403.2</td>\n",
       "      <td>799.4</td>\n",
       "      <td>584.4</td>\n",
       "      <td>1312.1</td>\n",
       "      <td>68.0</td>\n",
       "      <td>43.1</td>\n",
       "      <td>6.2</td>\n",
       "      <td>13.9</td>\n",
       "      <td>34.6</td>\n",
       "      <td>21.4</td>\n",
       "      <td>173.6</td>\n",
       "    </tr>\n",
       "    <tr>\n",
       "      <th>portland-trail-blazers</th>\n",
       "      <td>648</td>\n",
       "      <td>2034.0</td>\n",
       "      <td>5577.0</td>\n",
       "      <td>125385463.0</td>\n",
       "      <td>5269.0</td>\n",
       "      <td>445.0</td>\n",
       "      <td>1008.0</td>\n",
       "      <td>681.0</td>\n",
       "      <td>1676.0</td>\n",
       "      <td>79.8</td>\n",
       "      <td>42.0</td>\n",
       "      <td>10.2</td>\n",
       "      <td>14.6</td>\n",
       "      <td>44.5</td>\n",
       "      <td>26.3</td>\n",
       "      <td>180.3</td>\n",
       "    </tr>\n",
       "    <tr>\n",
       "      <th>sacramento-kings</th>\n",
       "      <td>434</td>\n",
       "      <td>1420.0</td>\n",
       "      <td>3860.0</td>\n",
       "      <td>118380763.0</td>\n",
       "      <td>4973.0</td>\n",
       "      <td>337.2</td>\n",
       "      <td>734.4</td>\n",
       "      <td>498.0</td>\n",
       "      <td>1188.3</td>\n",
       "      <td>61.6</td>\n",
       "      <td>32.3</td>\n",
       "      <td>6.7</td>\n",
       "      <td>9.7</td>\n",
       "      <td>30.5</td>\n",
       "      <td>19.2</td>\n",
       "      <td>154.1</td>\n",
       "    </tr>\n",
       "    <tr>\n",
       "      <th>san-antonio-spurs</th>\n",
       "      <td>484</td>\n",
       "      <td>1658.0</td>\n",
       "      <td>4563.0</td>\n",
       "      <td>66361589.0</td>\n",
       "      <td>3070.0</td>\n",
       "      <td>261.4</td>\n",
       "      <td>685.7</td>\n",
       "      <td>491.1</td>\n",
       "      <td>1044.3</td>\n",
       "      <td>48.6</td>\n",
       "      <td>18.2</td>\n",
       "      <td>6.7</td>\n",
       "      <td>7.6</td>\n",
       "      <td>22.7</td>\n",
       "      <td>11.4</td>\n",
       "      <td>99.7</td>\n",
       "    </tr>\n",
       "    <tr>\n",
       "      <th>toronto-raptors</th>\n",
       "      <td>528</td>\n",
       "      <td>1652.0</td>\n",
       "      <td>4440.0</td>\n",
       "      <td>139151499.0</td>\n",
       "      <td>4564.0</td>\n",
       "      <td>373.5</td>\n",
       "      <td>785.1</td>\n",
       "      <td>576.3</td>\n",
       "      <td>1338.3</td>\n",
       "      <td>67.3</td>\n",
       "      <td>29.4</td>\n",
       "      <td>7.1</td>\n",
       "      <td>13.4</td>\n",
       "      <td>30.0</td>\n",
       "      <td>16.4</td>\n",
       "      <td>150.5</td>\n",
       "    </tr>\n",
       "    <tr>\n",
       "      <th>utah-jazz</th>\n",
       "      <td>430</td>\n",
       "      <td>1329.0</td>\n",
       "      <td>3649.0</td>\n",
       "      <td>129270126.0</td>\n",
       "      <td>5385.0</td>\n",
       "      <td>292.5</td>\n",
       "      <td>626.3</td>\n",
       "      <td>408.8</td>\n",
       "      <td>986.0</td>\n",
       "      <td>51.9</td>\n",
       "      <td>27.1</td>\n",
       "      <td>5.8</td>\n",
       "      <td>9.9</td>\n",
       "      <td>23.6</td>\n",
       "      <td>17.6</td>\n",
       "      <td>140.7</td>\n",
       "    </tr>\n",
       "    <tr>\n",
       "      <th>washington-wizards</th>\n",
       "      <td>488</td>\n",
       "      <td>1504.0</td>\n",
       "      <td>4072.0</td>\n",
       "      <td>145196413.0</td>\n",
       "      <td>4592.0</td>\n",
       "      <td>341.4</td>\n",
       "      <td>757.5</td>\n",
       "      <td>521.8</td>\n",
       "      <td>1301.6</td>\n",
       "      <td>61.1</td>\n",
       "      <td>29.1</td>\n",
       "      <td>7.9</td>\n",
       "      <td>9.9</td>\n",
       "      <td>25.8</td>\n",
       "      <td>16.4</td>\n",
       "      <td>149.3</td>\n",
       "    </tr>\n",
       "  </tbody>\n",
       "</table>\n",
       "</div>"
      ],
      "text/plain": [
       "                        Age      HT      WT       Salary       GP    MIN  \\\n",
       "Team                                                                       \n",
       "atlanta-hawks           505  1554.0  4189.0  122570986.0   5378.0  366.5   \n",
       "boston-celtics          471  1424.0  4001.0  164553816.0   4796.0  337.6   \n",
       "brooklyn-nets           444  1252.0  3506.0  174782494.0   6261.0  375.5   \n",
       "charlotte-hornets       466  1502.0  4016.0  110117912.0   4409.0  315.7   \n",
       "chicago-bulls           501  1493.0  4132.0  131425246.0   6169.0  400.2   \n",
       "cleveland-cavaliers     648  1958.0  5382.0  154225452.0   7190.0  480.8   \n",
       "dallas-mavericks        462  1338.0  3677.0  121510554.0   5353.0  327.9   \n",
       "denver-nuggets          503  1479.0  4164.0  115137949.0   6380.0  349.3   \n",
       "detroit-pistons         565  1879.0  5117.0   97375817.0   4916.0  425.3   \n",
       "golden-state-warriors   496  1480.0  3976.0  181117346.0   5963.0  349.2   \n",
       "houston-rockets         505  1633.0  4602.0   65399991.0   3909.0  358.9   \n",
       "indiana-pacers          488  1564.0  4245.0   80905403.0   3198.0  307.4   \n",
       "la-clippers             471  1329.0  3558.0  207134881.0   6706.0  368.8   \n",
       "los-angeles-lakers      665  1875.0  5195.0  163321961.0  10344.0  478.7   \n",
       "memphis-grizzlies       451  1491.0  4086.0   87581223.0   3466.0  305.7   \n",
       "miami-heat              516  1492.0  4153.0  124245829.0   5455.0  339.9   \n",
       "milwaukee-bucks         477  1332.0  3711.0  152883087.0   7248.0  334.7   \n",
       "minnesota-timberwolves  523  1644.0  4562.0  149712064.0   5291.0  363.0   \n",
       "new-orleans-pelicans    504  1561.0  4298.0  131254966.0   4711.0  359.6   \n",
       "new-york-knicks         388  1248.0  3442.0   81749110.0   3460.0  308.8   \n",
       "oklahoma-city-thunder   531  1826.0  4822.0   45143234.0   2679.0  400.0   \n",
       "orlando-magic           444  1505.0  4173.0  105991682.0   2700.0  346.1   \n",
       "philadelphia-76ers      478  1561.0  4322.0  152833381.0   5630.0  342.6   \n",
       "phoenix-suns            492  1397.0  3867.0  128067452.0   6141.0  403.2   \n",
       "portland-trail-blazers  648  2034.0  5577.0  125385463.0   5269.0  445.0   \n",
       "sacramento-kings        434  1420.0  3860.0  118380763.0   4973.0  337.2   \n",
       "san-antonio-spurs       484  1658.0  4563.0   66361589.0   3070.0  261.4   \n",
       "toronto-raptors         528  1652.0  4440.0  139151499.0   4564.0  373.5   \n",
       "utah-jazz               430  1329.0  3649.0  129270126.0   5385.0  292.5   \n",
       "washington-wizards      488  1504.0  4072.0  145196413.0   4592.0  341.4   \n",
       "\n",
       "                           FG%    3P%     FT%   REB   AST   BLK   STL    PF  \\\n",
       "Team                                                                          \n",
       "atlanta-hawks            815.7  515.4  1323.0  65.0  36.7   6.6  11.3  29.4   \n",
       "boston-celtics           746.3  546.7  1184.2  61.5  31.8   9.0  11.1  27.2   \n",
       "brooklyn-nets            734.4  487.5  1142.8  68.2  37.6   7.3  11.8  29.9   \n",
       "charlotte-hornets        730.8  449.3  1124.8  56.5  33.4   6.4  10.8  27.0   \n",
       "chicago-bulls            867.1  619.0  1290.5  79.8  37.8   8.0  13.2  33.7   \n",
       "cleveland-cavaliers      964.1  580.6  1556.2  89.8  53.8   8.7  15.1  37.5   \n",
       "dallas-mavericks         693.5  494.8  1239.5  57.6  32.4   6.6   9.0  27.1   \n",
       "denver-nuggets           745.8  541.7  1205.8  72.0  35.2   7.3  11.5  30.4   \n",
       "detroit-pistons          873.2  639.9  1448.2  77.6  38.9   9.5  13.9  38.6   \n",
       "golden-state-warriors    739.3  533.1  1241.8  60.8  35.7   6.8  12.0  32.7   \n",
       "houston-rockets          816.1  554.4  1319.9  60.0  34.6   6.3  11.3  32.4   \n",
       "indiana-pacers           735.3  504.7  1191.5  58.2  29.1   9.2  10.8  28.7   \n",
       "la-clippers              680.4  523.1  1206.9  59.6  39.1   6.0  13.6  27.5   \n",
       "los-angeles-lakers       940.2  665.2  1506.7  89.0  49.0  10.4  16.6  38.7   \n",
       "memphis-grizzlies        678.6  463.0  1003.4  52.8  26.9   7.7  10.9  26.7   \n",
       "miami-heat               663.6  448.5  1078.5  63.2  31.9   5.7  11.1  28.7   \n",
       "milwaukee-bucks          692.5  533.1  1147.5  60.2  30.5   8.1  10.4  27.0   \n",
       "minnesota-timberwolves   818.3  534.4  1195.6  70.4  33.2   9.3  11.4  30.4   \n",
       "new-orleans-pelicans     788.3  577.8  1328.5  64.6  34.0   6.7  12.3  29.8   \n",
       "new-york-knicks          676.3  414.4  1014.1  53.9  30.3   5.7   9.6  27.6   \n",
       "oklahoma-city-thunder    805.9  615.2  1337.0  73.5  34.6   7.1  12.5  30.5   \n",
       "orlando-magic            689.9  526.5  1220.2  59.2  32.2   7.5  11.5  29.6   \n",
       "philadelphia-76ers       850.6  524.0  1349.8  62.8  31.2   9.1  12.7  30.3   \n",
       "phoenix-suns             799.4  584.4  1312.1  68.0  43.1   6.2  13.9  34.6   \n",
       "portland-trail-blazers  1008.0  681.0  1676.0  79.8  42.0  10.2  14.6  44.5   \n",
       "sacramento-kings         734.4  498.0  1188.3  61.6  32.3   6.7   9.7  30.5   \n",
       "san-antonio-spurs        685.7  491.1  1044.3  48.6  18.2   6.7   7.6  22.7   \n",
       "toronto-raptors          785.1  576.3  1338.3  67.3  29.4   7.1  13.4  30.0   \n",
       "utah-jazz                626.3  408.8   986.0  51.9  27.1   5.8   9.9  23.6   \n",
       "washington-wizards       757.5  521.8  1301.6  61.1  29.1   7.9   9.9  25.8   \n",
       "\n",
       "                          TO    PTS  \n",
       "Team                                 \n",
       "atlanta-hawks           20.3  168.0  \n",
       "boston-celtics          16.8  149.8  \n",
       "brooklyn-nets           21.9  190.8  \n",
       "charlotte-hornets       18.3  145.6  \n",
       "chicago-bulls           22.9  173.4  \n",
       "cleveland-cavaliers     28.9  202.9  \n",
       "dallas-mavericks        18.2  148.6  \n",
       "denver-nuggets          20.5  161.1  \n",
       "detroit-pistons         23.9  177.7  \n",
       "golden-state-warriors   22.3  160.7  \n",
       "houston-rockets         22.5  156.0  \n",
       "indiana-pacers          16.6  132.2  \n",
       "la-clippers             21.1  173.2  \n",
       "los-angeles-lakers      30.4  231.9  \n",
       "memphis-grizzlies       15.3  133.8  \n",
       "miami-heat              18.6  148.0  \n",
       "milwaukee-bucks         18.5  155.6  \n",
       "minnesota-timberwolves  21.3  171.7  \n",
       "new-orleans-pelicans    19.0  165.0  \n",
       "new-york-knicks         17.3  137.4  \n",
       "oklahoma-city-thunder   22.5  159.1  \n",
       "orlando-magic           19.6  145.8  \n",
       "philadelphia-76ers      19.4  160.5  \n",
       "phoenix-suns            21.4  173.6  \n",
       "portland-trail-blazers  26.3  180.3  \n",
       "sacramento-kings        19.2  154.1  \n",
       "san-antonio-spurs       11.4   99.7  \n",
       "toronto-raptors         16.4  150.5  \n",
       "utah-jazz               17.6  140.7  \n",
       "washington-wizards      16.4  149.3  "
      ]
     },
     "execution_count": 59,
     "metadata": {},
     "output_type": "execute_result"
    }
   ],
   "source": [
    "# find the sum values of each metric for every team (note: all non-float columns are automatically dropped)\n",
    "\n",
    "team_totals_df = all_players_df.groupby(by='Team').sum()\n",
    "\n",
    "team_totals_df"
   ]
  },
  {
   "cell_type": "markdown",
   "metadata": {},
   "source": [
    "#### I think the 'sum' view is more interesting than the 'mean' view for team-wide stats, so let's stick with this dataframe for a minute"
   ]
  },
  {
   "cell_type": "markdown",
   "metadata": {},
   "source": [
    "#### Obviously because these are career stats, they don't perfectly reflect each team's current situation. For example, team with veterans in the their final years in the league may get a big boost to career stats but not see that production on the court in the upcoming season. That said, the purpose of this project is to have a little fun and make some interesting observations, not to definitively rank teams or players based on their stats."
   ]
  },
  {
   "cell_type": "markdown",
   "metadata": {},
   "source": [
    "#### Let's take a look at how the top and bottom few teams stack up in some of the core stats in basketball: points, rebounds, and assists"
   ]
  },
  {
   "cell_type": "code",
   "execution_count": 60,
   "metadata": {},
   "outputs": [
    {
     "data": {
      "text/plain": [
       "Team\n",
       "los-angeles-lakers        231.9\n",
       "cleveland-cavaliers       202.9\n",
       "brooklyn-nets             190.8\n",
       "portland-trail-blazers    180.3\n",
       "detroit-pistons           177.7\n",
       "Name: PTS, dtype: float64"
      ]
     },
     "execution_count": 60,
     "metadata": {},
     "output_type": "execute_result"
    }
   ],
   "source": [
    "# show top 5 teams by career scoring averages\n",
    "\n",
    "team_totals_df.sort_values('PTS',ascending=False)['PTS'].head(5)"
   ]
  },
  {
   "cell_type": "code",
   "execution_count": 61,
   "metadata": {},
   "outputs": [
    {
     "data": {
      "text/plain": [
       "Team\n",
       "utah-jazz            140.7\n",
       "new-york-knicks      137.4\n",
       "memphis-grizzlies    133.8\n",
       "indiana-pacers       132.2\n",
       "san-antonio-spurs     99.7\n",
       "Name: PTS, dtype: float64"
      ]
     },
     "execution_count": 61,
     "metadata": {},
     "output_type": "execute_result"
    }
   ],
   "source": [
    "# show bottom 5 teams by career scoring averages\n",
    "team_totals_df.sort_values('PTS',ascending=False)['PTS'].tail(5)"
   ]
  },
  {
   "cell_type": "code",
   "execution_count": 62,
   "metadata": {},
   "outputs": [
    {
     "data": {
      "text/plain": [
       "Team\n",
       "cleveland-cavaliers       89.8\n",
       "los-angeles-lakers        89.0\n",
       "chicago-bulls             79.8\n",
       "portland-trail-blazers    79.8\n",
       "detroit-pistons           77.6\n",
       "Name: REB, dtype: float64"
      ]
     },
     "execution_count": 62,
     "metadata": {},
     "output_type": "execute_result"
    }
   ],
   "source": [
    "# show top 5 teams by career rebounding averages\n",
    "team_totals_df.sort_values('REB',ascending=False)['REB'].head(5)"
   ]
  },
  {
   "cell_type": "code",
   "execution_count": 63,
   "metadata": {},
   "outputs": [
    {
     "data": {
      "text/plain": [
       "Team\n",
       "charlotte-hornets    56.5\n",
       "new-york-knicks      53.9\n",
       "memphis-grizzlies    52.8\n",
       "utah-jazz            51.9\n",
       "san-antonio-spurs    48.6\n",
       "Name: REB, dtype: float64"
      ]
     },
     "execution_count": 63,
     "metadata": {},
     "output_type": "execute_result"
    }
   ],
   "source": [
    "# show bottom 5 teams by career rebounding averages\n",
    "team_totals_df.sort_values('REB',ascending=False)['REB'].tail(5)"
   ]
  },
  {
   "cell_type": "code",
   "execution_count": 64,
   "metadata": {},
   "outputs": [
    {
     "data": {
      "text/plain": [
       "Team\n",
       "cleveland-cavaliers       53.8\n",
       "los-angeles-lakers        49.0\n",
       "phoenix-suns              43.1\n",
       "portland-trail-blazers    42.0\n",
       "la-clippers               39.1\n",
       "Name: AST, dtype: float64"
      ]
     },
     "execution_count": 64,
     "metadata": {},
     "output_type": "execute_result"
    }
   ],
   "source": [
    "# show top 5 teams by career assist averages\n",
    "team_totals_df.sort_values('AST',ascending=False)['AST'].head(5)"
   ]
  },
  {
   "cell_type": "code",
   "execution_count": 65,
   "metadata": {},
   "outputs": [
    {
     "data": {
      "text/plain": [
       "Team\n",
       "indiana-pacers        29.1\n",
       "washington-wizards    29.1\n",
       "utah-jazz             27.1\n",
       "memphis-grizzlies     26.9\n",
       "san-antonio-spurs     18.2\n",
       "Name: AST, dtype: float64"
      ]
     },
     "execution_count": 65,
     "metadata": {},
     "output_type": "execute_result"
    }
   ],
   "source": [
    "# show bottom 5 teams by career assist averages\n",
    "team_totals_df.sort_values('AST',ascending=False)['AST'].tail(5)"
   ]
  },
  {
   "cell_type": "markdown",
   "metadata": {},
   "source": [
    "#### Looking at these lists there are a few things that become immediately apparent\n",
    "\n",
    "1. The differences between the top teams and bottom teams in each of these stats seems quite dramatic. The top teams are ~2X the bottom teams in most cases. We know the stats of these top teams must be affected by players who are outside of their prime inflating the numbers, as no NBA team is scoring even close to 200ppg. With veteran players like Carmelo Anthony, Dwight Howard, and Russell Westbrook on the Los Angeles Lakers, we can see how this total is possible.\n",
    "2. Speaking of the Los Angeles Lakers - they crack the top 5 in all 3 of these categories -- the only team to do so. Clearly given their performance in the '21-'22 season, cumulative career avg. stats wouldn't be a good way to estimate a team's winning percentage 😂\n",
    "3. The San Antonio Spurs are last in each of these categories... by a lot."
   ]
  },
  {
   "cell_type": "markdown",
   "metadata": {},
   "source": [
    "#### My hunch is that the Spurs have the youngest / least experienced team in the league by a good margin. Let's test that hunch."
   ]
  },
  {
   "cell_type": "code",
   "execution_count": 66,
   "metadata": {},
   "outputs": [
    {
     "data": {
      "text/plain": [
       "Team\n",
       "los-angeles-lakers        665\n",
       "portland-trail-blazers    648\n",
       "cleveland-cavaliers       648\n",
       "detroit-pistons           565\n",
       "oklahoma-city-thunder     531\n",
       "Name: Age, dtype: int64"
      ]
     },
     "execution_count": 66,
     "metadata": {},
     "output_type": "execute_result"
    }
   ],
   "source": [
    "# show top 5 teams by cumulative age\n",
    "team_totals_df.sort_values('Age',ascending=False)['Age'].head(5)"
   ]
  },
  {
   "cell_type": "code",
   "execution_count": 67,
   "metadata": {},
   "outputs": [
    {
     "data": {
      "text/plain": [
       "Team\n",
       "orlando-magic       444\n",
       "brooklyn-nets       444\n",
       "sacramento-kings    434\n",
       "utah-jazz           430\n",
       "new-york-knicks     388\n",
       "Name: Age, dtype: int64"
      ]
     },
     "execution_count": 67,
     "metadata": {},
     "output_type": "execute_result"
    }
   ],
   "source": [
    "# show bottom 5 teams by cumulative age\n",
    "team_totals_df.sort_values('Age',ascending=False)['Age'].tail(5)"
   ]
  },
  {
   "cell_type": "markdown",
   "metadata": {},
   "source": [
    "#### I was wrong! There are several teams with less cumulative experience than the spurs (approx. given varying # of total players on a roster) including the reigning Eastern Conference Champion Boston Celtics.\n",
    "\n",
    "#### It would seem that age alone is not enough of an explanation for the lack of career stats on that spurs team. We also know there can be more churn amongst younger players in the league (new draft picks, G-league promotions/demotions, etc.) Perhaps these spurs players just haven't played in the league quite as much?"
   ]
  },
  {
   "cell_type": "code",
   "execution_count": 68,
   "metadata": {},
   "outputs": [
    {
     "data": {
      "text/plain": [
       "Team\n",
       "los-angeles-lakers     10344.0\n",
       "milwaukee-bucks         7248.0\n",
       "cleveland-cavaliers     7190.0\n",
       "la-clippers             6706.0\n",
       "denver-nuggets          6380.0\n",
       "Name: GP, dtype: float64"
      ]
     },
     "execution_count": 68,
     "metadata": {},
     "output_type": "execute_result"
    }
   ],
   "source": [
    "# show top 5 teams by cumulative games played\n",
    "team_totals_df.sort_values('GP',ascending=False)['GP'].head(5)"
   ]
  },
  {
   "cell_type": "code",
   "execution_count": 69,
   "metadata": {},
   "outputs": [
    {
     "data": {
      "text/plain": [
       "Team\n",
       "new-york-knicks          3460.0\n",
       "indiana-pacers           3198.0\n",
       "san-antonio-spurs        3070.0\n",
       "orlando-magic            2700.0\n",
       "oklahoma-city-thunder    2679.0\n",
       "Name: GP, dtype: float64"
      ]
     },
     "execution_count": 69,
     "metadata": {},
     "output_type": "execute_result"
    }
   ],
   "source": [
    "# show bottom 5 teams by cumulative games played\n",
    "team_totals_df.sort_values('GP',ascending=False)['GP'].tail(5)"
   ]
  },
  {
   "cell_type": "markdown",
   "metadata": {},
   "source": [
    "#### And a quick check of the teams ranked by games played gives us the answer -- the San Antonio Spurs roster has cumulatively played very few games; < 1/4 as many as the Los Angeles Lakers roster!"
   ]
  },
  {
   "cell_type": "markdown",
   "metadata": {},
   "source": [
    "#### Just for our own understanding, exactly how far below the other teams in the league are the Spurs? We can compute a few quick stats to find out."
   ]
  },
  {
   "cell_type": "code",
   "execution_count": 70,
   "metadata": {},
   "outputs": [
    {
     "name": "stdout",
     "output_type": "stream",
     "text": [
      "AVG career PTS/game for a team is 159.9 with a STDEV of 23.85\n",
      "The Spurs total career PTS/game is 99.7, -2.52 stdevs from avg.\n",
      "\n",
      "AVG career REB/game for a team is 65.15 with a STDEV of 10.21\n",
      "The Spurs total career REB/game is 48.6, -1.62 stdevs from avg.\n",
      "\n",
      "AVG career AST/game for a team is 34.37 with a STDEV of 6.74\n",
      "The Spurs total career AST/game is 18.2, -2.4 stdevs from avg.\n",
      "\n"
     ]
    }
   ],
   "source": [
    "# compute the mean and standard deviation team career PTS, REB, and AST\n",
    "avg_pts = round(team_totals_df['PTS'].mean(),2)\n",
    "stdev_pts = round(team_totals_df['PTS'].std(),2)\n",
    "spurs_pts = round(team_totals_df.loc['san-antonio-spurs']['PTS'],2)\n",
    "avg_reb = round(team_totals_df['REB'].mean(),2)\n",
    "stdev_reb = round(team_totals_df['REB'].std(),2)\n",
    "spurs_reb = round(team_totals_df.loc['san-antonio-spurs']['REB'],2)\n",
    "avg_ast = round(team_totals_df['AST'].mean(),2)\n",
    "stdev_ast = round(team_totals_df['AST'].std(),2)\n",
    "spurs_ast = round(team_totals_df.loc['san-antonio-spurs']['AST'],2)\n",
    "\n",
    "\n",
    "print('AVG career PTS/game for a team is {pts} with a STDEV of {pts_dev}'.format(pts=avg_pts,pts_dev=stdev_pts))\n",
    "print('The Spurs total career PTS/game is {pts}, {devs} stdevs from avg.\\n'.format(pts=spurs_pts, devs=round((spurs_pts - avg_pts)/stdev_pts,2)))\n",
    "print('AVG career REB/game for a team is {reb} with a STDEV of {reb_dev}'.format(reb=avg_reb,reb_dev=stdev_reb))\n",
    "print('The Spurs total career REB/game is {pts}, {devs} stdevs from avg.\\n'.format(pts=spurs_reb, devs=round((spurs_reb - avg_reb)/stdev_reb,2)))\n",
    "print('AVG career AST/game for a team is {ast} with a STDEV of {ast_dev}'.format(ast=avg_ast,ast_dev=stdev_ast))\n",
    "print('The Spurs total career AST/game is {pts}, {devs} stdevs from avg.\\n'.format(pts=spurs_ast, devs=round((spurs_ast - avg_ast)/stdev_ast,2)))\n"
   ]
  },
  {
   "cell_type": "markdown",
   "metadata": {},
   "source": [
    "#### Assuming a normal distribution, the spurs 'team career stats' which we've pulled are considerably lower than the league average. These data points are nearly complete outliers, and one could make a case that we should exclude them from any league wide analysis of 'team career stats'. Luckily, that's not something we'll dive into here."
   ]
  },
  {
   "cell_type": "markdown",
   "metadata": {},
   "source": [
    "### I think that's enough looking at team-wide stats to get an idea of the types of questions we can answer with the data that we've scraped. Now let's turn to individual player stats, and get into some more interesting analyses!"
   ]
  },
  {
   "cell_type": "markdown",
   "metadata": {},
   "source": [
    "#### To start, let's save ourselves some times and figure out what relationships are worth exploring between the different metrics we've collected for each player"
   ]
  },
  {
   "cell_type": "code",
   "execution_count": 71,
   "metadata": {},
   "outputs": [],
   "source": [
    "# create a correlation matrix between player all player stats\n",
    "stats_correlations = all_players_df.corr()"
   ]
  },
  {
   "cell_type": "code",
   "execution_count": 72,
   "metadata": {},
   "outputs": [
    {
     "data": {
      "text/plain": [
       "Text(0.5, 1.0, 'Stats Correlation Matrix')"
      ]
     },
     "execution_count": 72,
     "metadata": {},
     "output_type": "execute_result"
    },
    {
     "data": {
      "image/png": "[encoded data removed]",
      "text/plain": [
       "<Figure size 864x648 with 2 Axes>"
      ]
     },
     "metadata": {
      "needs_background": "light"
     },
     "output_type": "display_data"
    }
   ],
   "source": [
    "# plot the correlation matrix as a heatmap\n",
    "import matplotlib.pyplot as plt\n",
    "\n",
    "fig = plt.figure(figsize=(12, 9))\n",
    "plt.matshow(stats_correlations, fignum=fig.number,cmap=plt.get_cmap('magma'))\n",
    "plt.xticks(range(stats_correlations.shape[1]),stats_correlations.columns, fontsize=12,rotation=45,ha='left')\n",
    "plt.yticks(range(stats_correlations.shape[1]),stats_correlations.columns, fontsize=12)\n",
    "legend = plt.colorbar()\n",
    "legend.ax.tick_params(labelsize=12)\n",
    "legend.set_label('Correlation Coefficient',fontsize=12, )\n",
    "plt.title('Stats Correlation Matrix', fontsize=16)"
   ]
  },
  {
   "cell_type": "markdown",
   "metadata": {},
   "source": [
    "#### As you can see, there are many weak relationships (noise) that aren't worth spending our time on (e.g., the correlation between AST & PF). Also, some of the strong relationships are fairly obvious (e.g., the direct relationship between GP and Age, or Height and Weight)."
   ]
  },
  {
   "cell_type": "markdown",
   "metadata": {},
   "source": [
    "#### A few pairs of metrics that are most highly correlated based on this matrix:\n",
    "* Height and Weight\n",
    "* Age and Games Played\n",
    "* Minutes and most per-game stats, particularly Points Per Game\n",
    "* Assists and Turnovers"
   ]
  },
  {
   "cell_type": "markdown",
   "metadata": {},
   "source": [
    "#### There are also some pairs of metrics that have **negative** correlations:\n",
    "* Height or Weight and 3P% / FT% / AST / STL\n",
    "* Blocks Per Game and 3P% / FT%"
   ]
  },
  {
   "cell_type": "markdown",
   "metadata": {},
   "source": [
    "#### As an experiment, let's determine the exact relationship between assists and turnovers\n",
    "\n",
    "#### We can do this with a linear regression by removing `Null` entries and using the `sklearn.linear_model.LinearRegression` function"
   ]
  },
  {
   "cell_type": "code",
   "execution_count": 73,
   "metadata": {},
   "outputs": [],
   "source": [
    "from sklearn.linear_model import LinearRegression\n",
    "\n",
    "# remove rows with null values\n",
    "ast_tov_df = all_players_df[['AST','TO']].dropna()"
   ]
  },
  {
   "cell_type": "code",
   "execution_count": 74,
   "metadata": {},
   "outputs": [
    {
     "data": {
      "image/png": "[encoded data removed]",
      "text/plain": [
       "<Figure size 864x648 with 1 Axes>"
      ]
     },
     "metadata": {
      "needs_background": "light"
     },
     "output_type": "display_data"
    }
   ],
   "source": [
    "# fit a model with the independent (X) variable as AST, and the dependent (Y) variable as TO\n",
    "\n",
    "X = ast_tov_df['AST'].values.reshape(-1,1)\n",
    "Y = ast_tov_df['TO'].values.reshape(-1,1)\n",
    "reg = LinearRegression(fit_intercept=False).fit(X,Y)\n",
    "y_pred = reg.predict(X)\n",
    "plt.figure(figsize=(12, 9))\n",
    "plt.scatter(X, Y)\n",
    "plt.plot(X, y_pred, color='red')\n",
    "plt.xlabel(\"Assists per game (Career)\")\n",
    "plt.ylabel(\"Turnovers per game (Career)\")\n",
    "plt.title('Assists vs Turnovers', fontsize=16);"
   ]
  },
  {
   "cell_type": "code",
   "execution_count": 75,
   "metadata": {},
   "outputs": [
    {
     "data": {
      "text/plain": [
       "0.5049153926481089"
      ]
     },
     "execution_count": 75,
     "metadata": {},
     "output_type": "execute_result"
    }
   ],
   "source": [
    "# get the slope of the line that characterizes this linear relationship\n",
    "\n",
    "to_per_ast = reg.coef_[0][0]\n",
    "to_per_ast"
   ]
  },
  {
   "cell_type": "markdown",
   "metadata": {},
   "source": [
    "#### From this information, we can see that an NBA player on average over a career has ~2 assists for every turnover they give up."
   ]
  },
  {
   "cell_type": "markdown",
   "metadata": {},
   "source": [
    "#### But what if we wanted to know what a 'good' ratio of AST to TO is for an NBA player?\n",
    "\n",
    "#### If we add another column to our original dataframe, we can perform some quantile analysis to answer this question. Let's add an AST/TO column to our original dataframe."
   ]
  },
  {
   "cell_type": "code",
   "execution_count": 76,
   "metadata": {},
   "outputs": [],
   "source": [
    "# add calculated field\n",
    "\n",
    "all_players_df['AST/TO'] = all_players_df['AST'] / all_players_df['TO']"
   ]
  },
  {
   "cell_type": "code",
   "execution_count": 77,
   "metadata": {},
   "outputs": [
    {
     "data": {
      "text/html": [
       "<div>\n",
       "<style scoped>\n",
       "    .dataframe tbody tr th:only-of-type {\n",
       "        vertical-align: middle;\n",
       "    }\n",
       "\n",
       "    .dataframe tbody tr th {\n",
       "        vertical-align: top;\n",
       "    }\n",
       "\n",
       "    .dataframe thead th {\n",
       "        text-align: right;\n",
       "    }\n",
       "</style>\n",
       "<table border=\"1\" class=\"dataframe\">\n",
       "  <thead>\n",
       "    <tr style=\"text-align: right;\">\n",
       "      <th></th>\n",
       "      <th>Name</th>\n",
       "      <th>POS</th>\n",
       "      <th>Age</th>\n",
       "      <th>HT</th>\n",
       "      <th>WT</th>\n",
       "      <th>College</th>\n",
       "      <th>Salary</th>\n",
       "      <th>Team</th>\n",
       "      <th>id</th>\n",
       "      <th>url</th>\n",
       "      <th>...</th>\n",
       "      <th>3P%</th>\n",
       "      <th>FT%</th>\n",
       "      <th>REB</th>\n",
       "      <th>AST</th>\n",
       "      <th>BLK</th>\n",
       "      <th>STL</th>\n",
       "      <th>PF</th>\n",
       "      <th>TO</th>\n",
       "      <th>PTS</th>\n",
       "      <th>AST/TO</th>\n",
       "    </tr>\n",
       "  </thead>\n",
       "  <tbody>\n",
       "    <tr>\n",
       "      <th>Malcolm Brogdon</th>\n",
       "      <td>Malcolm Brogdon</td>\n",
       "      <td>PG</td>\n",
       "      <td>29</td>\n",
       "      <td>77.0</td>\n",
       "      <td>229.0</td>\n",
       "      <td>Virginia</td>\n",
       "      <td>21700000.0</td>\n",
       "      <td>boston-celtics</td>\n",
       "      <td>2566769</td>\n",
       "      <td>https://www.espn.com/nba/player/_/id/2566769/m...</td>\n",
       "      <td>...</td>\n",
       "      <td>37.6</td>\n",
       "      <td>88.1</td>\n",
       "      <td>4.2</td>\n",
       "      <td>4.8</td>\n",
       "      <td>0.2</td>\n",
       "      <td>0.9</td>\n",
       "      <td>1.9</td>\n",
       "      <td>1.8</td>\n",
       "      <td>15.5</td>\n",
       "      <td>2.666667</td>\n",
       "    </tr>\n",
       "    <tr>\n",
       "      <th>Jaylen Brown</th>\n",
       "      <td>Jaylen Brown</td>\n",
       "      <td>SG</td>\n",
       "      <td>25</td>\n",
       "      <td>78.0</td>\n",
       "      <td>223.0</td>\n",
       "      <td>California</td>\n",
       "      <td>26758928.0</td>\n",
       "      <td>boston-celtics</td>\n",
       "      <td>3917376</td>\n",
       "      <td>https://www.espn.com/nba/player/_/id/3917376/j...</td>\n",
       "      <td>...</td>\n",
       "      <td>37.3</td>\n",
       "      <td>71.2</td>\n",
       "      <td>4.9</td>\n",
       "      <td>2.0</td>\n",
       "      <td>0.4</td>\n",
       "      <td>0.9</td>\n",
       "      <td>2.5</td>\n",
       "      <td>1.9</td>\n",
       "      <td>16.5</td>\n",
       "      <td>1.052632</td>\n",
       "    </tr>\n",
       "    <tr>\n",
       "      <th>Bruno Caboclo</th>\n",
       "      <td>Bruno Caboclo</td>\n",
       "      <td>F</td>\n",
       "      <td>26</td>\n",
       "      <td>81.0</td>\n",
       "      <td>218.0</td>\n",
       "      <td>--</td>\n",
       "      <td>0.0</td>\n",
       "      <td>boston-celtics</td>\n",
       "      <td>3113297</td>\n",
       "      <td>https://www.espn.com/nba/player/_/id/3113297/b...</td>\n",
       "      <td>...</td>\n",
       "      <td>30.8</td>\n",
       "      <td>83.6</td>\n",
       "      <td>2.6</td>\n",
       "      <td>0.7</td>\n",
       "      <td>0.6</td>\n",
       "      <td>0.3</td>\n",
       "      <td>1.3</td>\n",
       "      <td>0.7</td>\n",
       "      <td>4.2</td>\n",
       "      <td>1.000000</td>\n",
       "    </tr>\n",
       "    <tr>\n",
       "      <th>JD Davison</th>\n",
       "      <td>JD Davison</td>\n",
       "      <td>G</td>\n",
       "      <td>19</td>\n",
       "      <td>75.0</td>\n",
       "      <td>195.0</td>\n",
       "      <td>Alabama</td>\n",
       "      <td>0.0</td>\n",
       "      <td>boston-celtics</td>\n",
       "      <td>4576085</td>\n",
       "      <td>https://www.espn.com/nba/player/_/id/4576085/j...</td>\n",
       "      <td>...</td>\n",
       "      <td>NaN</td>\n",
       "      <td>NaN</td>\n",
       "      <td>NaN</td>\n",
       "      <td>NaN</td>\n",
       "      <td>NaN</td>\n",
       "      <td>NaN</td>\n",
       "      <td>NaN</td>\n",
       "      <td>NaN</td>\n",
       "      <td>NaN</td>\n",
       "      <td>NaN</td>\n",
       "    </tr>\n",
       "    <tr>\n",
       "      <th>Danilo Gallinari</th>\n",
       "      <td>Danilo Gallinari</td>\n",
       "      <td>F</td>\n",
       "      <td>34</td>\n",
       "      <td>82.0</td>\n",
       "      <td>236.0</td>\n",
       "      <td>--</td>\n",
       "      <td>20475000.0</td>\n",
       "      <td>boston-celtics</td>\n",
       "      <td>3428</td>\n",
       "      <td>https://www.espn.com/nba/player/_/id/3428/dani...</td>\n",
       "      <td>...</td>\n",
       "      <td>38.2</td>\n",
       "      <td>87.7</td>\n",
       "      <td>4.8</td>\n",
       "      <td>1.9</td>\n",
       "      <td>0.4</td>\n",
       "      <td>0.7</td>\n",
       "      <td>1.8</td>\n",
       "      <td>1.2</td>\n",
       "      <td>15.6</td>\n",
       "      <td>1.583333</td>\n",
       "    </tr>\n",
       "  </tbody>\n",
       "</table>\n",
       "<p>5 rows × 24 columns</p>\n",
       "</div>"
      ],
      "text/plain": [
       "                              Name POS  Age    HT     WT     College  \\\n",
       "Malcolm Brogdon    Malcolm Brogdon  PG   29  77.0  229.0    Virginia   \n",
       "Jaylen Brown          Jaylen Brown  SG   25  78.0  223.0  California   \n",
       "Bruno Caboclo        Bruno Caboclo   F   26  81.0  218.0          --   \n",
       "JD Davison              JD Davison   G   19  75.0  195.0     Alabama   \n",
       "Danilo Gallinari  Danilo Gallinari   F   34  82.0  236.0          --   \n",
       "\n",
       "                      Salary            Team       id  \\\n",
       "Malcolm Brogdon   21700000.0  boston-celtics  2566769   \n",
       "Jaylen Brown      26758928.0  boston-celtics  3917376   \n",
       "Bruno Caboclo            0.0  boston-celtics  3113297   \n",
       "JD Davison               0.0  boston-celtics  4576085   \n",
       "Danilo Gallinari  20475000.0  boston-celtics     3428   \n",
       "\n",
       "                                                                url  ...  \\\n",
       "Malcolm Brogdon   https://www.espn.com/nba/player/_/id/2566769/m...  ...   \n",
       "Jaylen Brown      https://www.espn.com/nba/player/_/id/3917376/j...  ...   \n",
       "Bruno Caboclo     https://www.espn.com/nba/player/_/id/3113297/b...  ...   \n",
       "JD Davison        https://www.espn.com/nba/player/_/id/4576085/j...  ...   \n",
       "Danilo Gallinari  https://www.espn.com/nba/player/_/id/3428/dani...  ...   \n",
       "\n",
       "                   3P%   FT%  REB  AST  BLK  STL   PF   TO   PTS    AST/TO  \n",
       "Malcolm Brogdon   37.6  88.1  4.2  4.8  0.2  0.9  1.9  1.8  15.5  2.666667  \n",
       "Jaylen Brown      37.3  71.2  4.9  2.0  0.4  0.9  2.5  1.9  16.5  1.052632  \n",
       "Bruno Caboclo     30.8  83.6  2.6  0.7  0.6  0.3  1.3  0.7   4.2  1.000000  \n",
       "JD Davison         NaN   NaN  NaN  NaN  NaN  NaN  NaN  NaN   NaN       NaN  \n",
       "Danilo Gallinari  38.2  87.7  4.8  1.9  0.4  0.7  1.8  1.2  15.6  1.583333  \n",
       "\n",
       "[5 rows x 24 columns]"
      ]
     },
     "execution_count": 77,
     "metadata": {},
     "output_type": "execute_result"
    }
   ],
   "source": [
    "# display new dataframe with added field\n",
    "\n",
    "all_players_df.head(5)"
   ]
  },
  {
   "cell_type": "code",
   "execution_count": 78,
   "metadata": {},
   "outputs": [
    {
     "name": "stdout",
     "output_type": "stream",
     "text": [
      "The Median NBA player has ~1.58 AST / TO through their career\n",
      "A Top Quartile NBA player has ~2.09 AST / TO through their career\n",
      "A Top Decile NBA player has ~2.67 AST / TO through their career\n"
     ]
    }
   ],
   "source": [
    "# pull out key percentile benchmarks for the AST/TO column\n",
    "\n",
    "top_decile = round(all_players_df['AST/TO'].quantile(0.90),2)\n",
    "top_quartile = round(all_players_df['AST/TO'].quantile(0.75),2)\n",
    "median = round(all_players_df['AST/TO'].quantile(0.50),2)\n",
    "\n",
    "print('The Median NBA player has ~{ratio} AST / TO through their career'.format(ratio=median))\n",
    "print('A Top Quartile NBA player has ~{ratio} AST / TO through their career'.format(ratio=top_quartile))\n",
    "print('A Top Decile NBA player has ~{ratio} AST / TO through their career'.format(ratio=top_decile))\n"
   ]
  },
  {
   "cell_type": "markdown",
   "metadata": {},
   "source": [
    "#### You can see, from some simple dataframe manipulation (adding a calculated field) and existing pandas functions like `quartile` we can get a quick idea of what 'good' looks like for the AST/TO ratio of an NBA player across their career.\n",
    "\n",
    "#### We could dive into advanced stats analysis, but we'll save that for another project. \n",
    "\n",
    "#### Lastly, I want to walk us through some of the machine learning capabilities of python, which allow us to develop predictive models based on what we know from the dataset we've compiled"
   ]
  },
  {
   "cell_type": "markdown",
   "metadata": {},
   "source": [
    "## Part 3: Machine Learning"
   ]
  },
  {
   "cell_type": "markdown",
   "metadata": {},
   "source": [
    "#### Let's get a quick idea what the rest of our dataset is like via a convenient python summary function"
   ]
  },
  {
   "cell_type": "code",
   "execution_count": 192,
   "metadata": {},
   "outputs": [
    {
     "data": {
      "text/html": [
       "<div>\n",
       "<style scoped>\n",
       "    .dataframe tbody tr th:only-of-type {\n",
       "        vertical-align: middle;\n",
       "    }\n",
       "\n",
       "    .dataframe tbody tr th {\n",
       "        vertical-align: top;\n",
       "    }\n",
       "\n",
       "    .dataframe thead th {\n",
       "        text-align: right;\n",
       "    }\n",
       "</style>\n",
       "<table border=\"1\" class=\"dataframe\">\n",
       "  <thead>\n",
       "    <tr style=\"text-align: right;\">\n",
       "      <th></th>\n",
       "      <th>Age</th>\n",
       "      <th>HT</th>\n",
       "      <th>WT</th>\n",
       "      <th>Salary</th>\n",
       "      <th>GP</th>\n",
       "      <th>MIN</th>\n",
       "      <th>FG%</th>\n",
       "      <th>3P%</th>\n",
       "      <th>FT%</th>\n",
       "      <th>REB</th>\n",
       "      <th>AST</th>\n",
       "      <th>BLK</th>\n",
       "      <th>STL</th>\n",
       "      <th>PF</th>\n",
       "      <th>TO</th>\n",
       "      <th>PTS</th>\n",
       "      <th>AST/TO</th>\n",
       "    </tr>\n",
       "  </thead>\n",
       "  <tbody>\n",
       "    <tr>\n",
       "      <th>count</th>\n",
       "      <td>592.000000</td>\n",
       "      <td>592.000000</td>\n",
       "      <td>592.000000</td>\n",
       "      <td>5.880000e+02</td>\n",
       "      <td>513.000000</td>\n",
       "      <td>513.000000</td>\n",
       "      <td>513.000000</td>\n",
       "      <td>513.000000</td>\n",
       "      <td>513.000000</td>\n",
       "      <td>513.000000</td>\n",
       "      <td>513.000000</td>\n",
       "      <td>513.000000</td>\n",
       "      <td>513.000000</td>\n",
       "      <td>513.000000</td>\n",
       "      <td>513.000000</td>\n",
       "      <td>513.000000</td>\n",
       "      <td>510.000000</td>\n",
       "    </tr>\n",
       "    <tr>\n",
       "      <th>mean</th>\n",
       "      <td>25.347973</td>\n",
       "      <td>78.402027</td>\n",
       "      <td>215.130068</td>\n",
       "      <td>6.416306e+06</td>\n",
       "      <td>303.325536</td>\n",
       "      <td>21.045614</td>\n",
       "      <td>45.112281</td>\n",
       "      <td>31.293762</td>\n",
       "      <td>73.105263</td>\n",
       "      <td>3.809942</td>\n",
       "      <td>2.009942</td>\n",
       "      <td>0.439766</td>\n",
       "      <td>0.688889</td>\n",
       "      <td>1.779922</td>\n",
       "      <td>1.178947</td>\n",
       "      <td>9.350877</td>\n",
       "      <td>inf</td>\n",
       "    </tr>\n",
       "    <tr>\n",
       "      <th>std</th>\n",
       "      <td>5.018800</td>\n",
       "      <td>3.236927</td>\n",
       "      <td>23.779407</td>\n",
       "      <td>9.367600e+06</td>\n",
       "      <td>282.799608</td>\n",
       "      <td>8.306907</td>\n",
       "      <td>9.260287</td>\n",
       "      <td>9.744137</td>\n",
       "      <td>15.235091</td>\n",
       "      <td>2.239995</td>\n",
       "      <td>1.678226</td>\n",
       "      <td>0.401338</td>\n",
       "      <td>0.373609</td>\n",
       "      <td>0.694008</td>\n",
       "      <td>0.768105</td>\n",
       "      <td>5.509651</td>\n",
       "      <td>NaN</td>\n",
       "    </tr>\n",
       "    <tr>\n",
       "      <th>min</th>\n",
       "      <td>0.000000</td>\n",
       "      <td>69.000000</td>\n",
       "      <td>164.000000</td>\n",
       "      <td>0.000000e+00</td>\n",
       "      <td>1.000000</td>\n",
       "      <td>1.000000</td>\n",
       "      <td>0.000000</td>\n",
       "      <td>0.000000</td>\n",
       "      <td>0.000000</td>\n",
       "      <td>0.000000</td>\n",
       "      <td>0.000000</td>\n",
       "      <td>0.000000</td>\n",
       "      <td>0.000000</td>\n",
       "      <td>0.000000</td>\n",
       "      <td>0.000000</td>\n",
       "      <td>0.000000</td>\n",
       "      <td>0.000000</td>\n",
       "    </tr>\n",
       "    <tr>\n",
       "      <th>25%</th>\n",
       "      <td>22.000000</td>\n",
       "      <td>76.000000</td>\n",
       "      <td>197.000000</td>\n",
       "      <td>1.467315e+05</td>\n",
       "      <td>78.000000</td>\n",
       "      <td>15.300000</td>\n",
       "      <td>41.500000</td>\n",
       "      <td>30.000000</td>\n",
       "      <td>68.600000</td>\n",
       "      <td>2.200000</td>\n",
       "      <td>0.900000</td>\n",
       "      <td>0.200000</td>\n",
       "      <td>0.400000</td>\n",
       "      <td>1.400000</td>\n",
       "      <td>0.600000</td>\n",
       "      <td>5.400000</td>\n",
       "      <td>1.151974</td>\n",
       "    </tr>\n",
       "    <tr>\n",
       "      <th>50%</th>\n",
       "      <td>25.000000</td>\n",
       "      <td>78.000000</td>\n",
       "      <td>215.000000</td>\n",
       "      <td>2.117160e+06</td>\n",
       "      <td>203.000000</td>\n",
       "      <td>21.200000</td>\n",
       "      <td>44.600000</td>\n",
       "      <td>33.800000</td>\n",
       "      <td>75.900000</td>\n",
       "      <td>3.300000</td>\n",
       "      <td>1.500000</td>\n",
       "      <td>0.300000</td>\n",
       "      <td>0.700000</td>\n",
       "      <td>1.800000</td>\n",
       "      <td>1.000000</td>\n",
       "      <td>8.300000</td>\n",
       "      <td>1.577381</td>\n",
       "    </tr>\n",
       "    <tr>\n",
       "      <th>75%</th>\n",
       "      <td>29.000000</td>\n",
       "      <td>81.000000</td>\n",
       "      <td>230.000000</td>\n",
       "      <td>8.394483e+06</td>\n",
       "      <td>468.000000</td>\n",
       "      <td>27.900000</td>\n",
       "      <td>48.900000</td>\n",
       "      <td>36.500000</td>\n",
       "      <td>82.000000</td>\n",
       "      <td>4.900000</td>\n",
       "      <td>2.600000</td>\n",
       "      <td>0.600000</td>\n",
       "      <td>0.900000</td>\n",
       "      <td>2.200000</td>\n",
       "      <td>1.500000</td>\n",
       "      <td>12.600000</td>\n",
       "      <td>2.086957</td>\n",
       "    </tr>\n",
       "    <tr>\n",
       "      <th>max</th>\n",
       "      <td>42.000000</td>\n",
       "      <td>87.000000</td>\n",
       "      <td>290.000000</td>\n",
       "      <td>4.578097e+07</td>\n",
       "      <td>1366.000000</td>\n",
       "      <td>38.200000</td>\n",
       "      <td>100.000000</td>\n",
       "      <td>66.700000</td>\n",
       "      <td>100.000000</td>\n",
       "      <td>13.300000</td>\n",
       "      <td>9.500000</td>\n",
       "      <td>2.300000</td>\n",
       "      <td>2.100000</td>\n",
       "      <td>3.800000</td>\n",
       "      <td>4.100000</td>\n",
       "      <td>27.200000</td>\n",
       "      <td>inf</td>\n",
       "    </tr>\n",
       "  </tbody>\n",
       "</table>\n",
       "</div>"
      ],
      "text/plain": [
       "              Age          HT          WT        Salary           GP  \\\n",
       "count  592.000000  592.000000  592.000000  5.880000e+02   513.000000   \n",
       "mean    25.347973   78.402027  215.130068  6.416306e+06   303.325536   \n",
       "std      5.018800    3.236927   23.779407  9.367600e+06   282.799608   \n",
       "min      0.000000   69.000000  164.000000  0.000000e+00     1.000000   \n",
       "25%     22.000000   76.000000  197.000000  1.467315e+05    78.000000   \n",
       "50%     25.000000   78.000000  215.000000  2.117160e+06   203.000000   \n",
       "75%     29.000000   81.000000  230.000000  8.394483e+06   468.000000   \n",
       "max     42.000000   87.000000  290.000000  4.578097e+07  1366.000000   \n",
       "\n",
       "              MIN         FG%         3P%         FT%         REB         AST  \\\n",
       "count  513.000000  513.000000  513.000000  513.000000  513.000000  513.000000   \n",
       "mean    21.045614   45.112281   31.293762   73.105263    3.809942    2.009942   \n",
       "std      8.306907    9.260287    9.744137   15.235091    2.239995    1.678226   \n",
       "min      1.000000    0.000000    0.000000    0.000000    0.000000    0.000000   \n",
       "25%     15.300000   41.500000   30.000000   68.600000    2.200000    0.900000   \n",
       "50%     21.200000   44.600000   33.800000   75.900000    3.300000    1.500000   \n",
       "75%     27.900000   48.900000   36.500000   82.000000    4.900000    2.600000   \n",
       "max     38.200000  100.000000   66.700000  100.000000   13.300000    9.500000   \n",
       "\n",
       "              BLK         STL          PF          TO         PTS      AST/TO  \n",
       "count  513.000000  513.000000  513.000000  513.000000  513.000000  510.000000  \n",
       "mean     0.439766    0.688889    1.779922    1.178947    9.350877         inf  \n",
       "std      0.401338    0.373609    0.694008    0.768105    5.509651         NaN  \n",
       "min      0.000000    0.000000    0.000000    0.000000    0.000000    0.000000  \n",
       "25%      0.200000    0.400000    1.400000    0.600000    5.400000    1.151974  \n",
       "50%      0.300000    0.700000    1.800000    1.000000    8.300000    1.577381  \n",
       "75%      0.600000    0.900000    2.200000    1.500000   12.600000    2.086957  \n",
       "max      2.300000    2.100000    3.800000    4.100000   27.200000         inf  "
      ]
     },
     "execution_count": 192,
     "metadata": {},
     "output_type": "execute_result"
    }
   ],
   "source": [
    "all_players_df.describe()"
   ]
  },
  {
   "cell_type": "markdown",
   "metadata": {},
   "source": [
    "#### For most stats, there are a wide range of values across the entire NBA\n",
    "\n",
    "#### Let's try and find two variables which have a non-linear relationship\n",
    "\n",
    "#### For example, Age and Salary. We know players early in their career are signed to smaller contracts, then in their physical primes earn more, and eventually if they continue playing as they get older they will sign smaller veteran contracts again."
   ]
  },
  {
   "cell_type": "code",
   "execution_count": 274,
   "metadata": {},
   "outputs": [],
   "source": [
    "# drop all null rows for a clean dataset and sort in the order of the variable to be plotted along the x axis\n",
    "ml_df = all_players_df.dropna().sort_values(by='Age',axis=0, ascending=True)\n",
    "\n",
    "# specify the variables we will be fitting from the dataset\n",
    "X = ml_df['Age'].values\n",
    "Y = ml_df['Salary'].values"
   ]
  },
  {
   "cell_type": "markdown",
   "metadata": {},
   "source": [
    "#### For reference, let's see how bad a linear fit would have been here"
   ]
  },
  {
   "cell_type": "code",
   "execution_count": 275,
   "metadata": {},
   "outputs": [
    {
     "data": {
      "image/png": "[encoded data removed]",
      "text/plain": [
       "<Figure size 864x648 with 1 Axes>"
      ]
     },
     "metadata": {
      "needs_background": "light"
     },
     "output_type": "display_data"
    }
   ],
   "source": [
    "# define linear regression scatterplot for age vs. salary\n",
    "X1 = ml_df['Age'].values\n",
    "Y1 = ml_df['Salary'].values\n",
    "reg1 = LinearRegression(fit_intercept=False).fit(X1.reshape(-1,1),Y1.reshape(-1,1))\n",
    "y1_pred = reg1.predict(X1.reshape(-1,1))\n",
    "plt.figure(figsize=(12, 9))\n",
    "plt.scatter(X1, Y1)\n",
    "plt.plot(X1, y1_pred, color='red')\n",
    "plt.xlabel(\"Player Age\")\n",
    "plt.ylabel(\"Player Salary\")\n",
    "plt.title('Age vs Salary', fontsize=16);"
   ]
  },
  {
   "cell_type": "code",
   "execution_count": 277,
   "metadata": {},
   "outputs": [
    {
     "data": {
      "text/plain": [
       "295815.9553408097"
      ]
     },
     "execution_count": 277,
     "metadata": {},
     "output_type": "execute_result"
    }
   ],
   "source": [
    "# slope\n",
    "reg1.coef_[0][0]"
   ]
  },
  {
   "cell_type": "code",
   "execution_count": 278,
   "metadata": {},
   "outputs": [
    {
     "data": {
      "text/plain": [
       "0.0"
      ]
     },
     "execution_count": 278,
     "metadata": {},
     "output_type": "execute_result"
    }
   ],
   "source": [
    "# intercept\n",
    "reg1.intercept_"
   ]
  },
  {
   "cell_type": "code",
   "execution_count": 276,
   "metadata": {},
   "outputs": [
    {
     "data": {
      "text/plain": [
       "0.07062746477398929"
      ]
     },
     "execution_count": 276,
     "metadata": {},
     "output_type": "execute_result"
    }
   ],
   "source": [
    "# get the R^2 of this relationship\n",
    "reg1.score(X1.reshape(-1,1),Y1.reshape(-1,1))"
   ]
  },
  {
   "cell_type": "markdown",
   "metadata": {},
   "source": [
    "#### As evidenced by the extremely low R^2 <0.1, there is no clear linear relationship between player age and salary\n",
    "\n",
    "#### Now let's look at the polynomial regression"
   ]
  },
  {
   "cell_type": "code",
   "execution_count": 279,
   "metadata": {},
   "outputs": [],
   "source": [
    "# import libraries needed for polynomial regression\n",
    "from sklearn.model_selection import train_test_split\n",
    "import numpy as np"
   ]
  },
  {
   "cell_type": "code",
   "execution_count": 280,
   "metadata": {},
   "outputs": [],
   "source": [
    "# split the dataset into training and testing datasets\n",
    "X_train, X_test, Y_train, Y_test = train_test_split(X, Y, test_size=0.3,random_state=0)"
   ]
  },
  {
   "cell_type": "code",
   "execution_count": 294,
   "metadata": {},
   "outputs": [],
   "source": [
    "# define the polynomial models\n",
    "model1 = np.poly1d(np.polyfit(X_train, Y_train,1))\n",
    "model2 = np.poly1d(np.polyfit(X_train, Y_train,2))\n",
    "model3 = np.poly1d(np.polyfit(X_train, Y_train,3))\n",
    "model6 = np.poly1d(np.polyfit(X_train, Y_train,6))\n",
    "\n",
    "# predict output based on the fitted models (testing)\n",
    "predictions1 = model1(np.sort(X_test))\n",
    "predictions2 = model2(np.sort(X_test))\n",
    "predictions3 = model3(np.sort(X_test))\n",
    "predictions6 = model6(np.sort(X_test))"
   ]
  },
  {
   "cell_type": "code",
   "execution_count": 295,
   "metadata": {},
   "outputs": [
    {
     "data": {
      "image/png": "[encoded data removed]",
      "text/plain": [
       "<Figure size 864x648 with 1 Axes>"
      ]
     },
     "metadata": {
      "needs_background": "light"
     },
     "output_type": "display_data"
    }
   ],
   "source": [
    "# plot the polynomial models against the test data\n",
    "plt.figure(figsize=(12, 9))\n",
    "plt.scatter(X_test, Y_test, c=\"#000000\")\n",
    "plt.plot(np.sort(X_test),predictions1, color='red', label=\"n=1\")\n",
    "plt.plot(np.sort(X_test),predictions2, color='green', label=\"n=2\")\n",
    "plt.plot(np.sort(X_test),predictions3, color='blue', label=\"n=3\")\n",
    "plt.plot(np.sort(X_test),predictions6, color='brown', label=\"n=6\")\n",
    "plt.xlabel(\"Player Age\")\n",
    "plt.ylabel(\"Player Salary\")\n",
    "plt.legend(loc='upper right')\n",
    "plt.title('Age vs Salary', fontsize=16);"
   ]
  },
  {
   "cell_type": "markdown",
   "metadata": {},
   "source": [
    "#### It is clear from the above that the degree of the polynomial to which we fit our data has a considerable impact on ouir predictions.\n",
    "\n",
    "#### The first degree fit, as we had seen previously with the `LinearRegression`, is not a good fit.\n",
    "\n",
    "#### The second degree fit is slightly better; however, we know it cannot be completely accurate as salary continues to increase with age even past 40\n",
    "\n",
    "#### The third degree fit is better than both the first and second degree fits. We see a clear climb in salary with age to a point, and then a decrease beginning in a player's early 30's, which aligns with what we know to be true.\n",
    "\n",
    "#### One might think that increasing the degree further will continue to improve the fit; however, that is not always the case. As evidenced by the 6th degree fit above, higher-degree polynomial fits can exhibit strange behaviors. For example, the 6th degree fit above shows that earnings for players <20 years old exceeds earningsfor players in their early 20s. This misleading edge behavior is an example of **overfitting** in which the training data set used may be matched quite well, but the model becomes less useful for predicting outputs for new data."
   ]
  },
  {
   "cell_type": "markdown",
   "metadata": {},
   "source": [
    "#### In general, the work we've done here shows that there isn't really a clear polynomial relationship between age and salary. There are likely several other parameters that complicate this relationship.\n",
    "\n",
    "#### If we wanted to analyze this more complex relationship, the `numpy poly1d` function would not be powerful enough to define that relationship. Instead, we would need to use `sklearn.preprocessing.PolynomialFeatures`. But I'll save that for another project given how long this notebook has become :)"
   ]
  },
  {
   "cell_type": "markdown",
   "metadata": {},
   "source": [
    "### Thank you for reading this far! I hope you have found the content in this project interesting and potentially found this information useful for your own investigations. \n",
    "\n",
    "### Let me know if there are any other questions about NBA statistics and Python that you're curious to answer, and I'll see if I can address them in a future project."
   ]
  }
 ],
 "metadata": {
  "kernelspec": {
   "display_name": "Python 3.10.3 64-bit ('3.10.3')",
   "language": "python",
   "name": "python3"
  },
  "language_info": {
   "codemirror_mode": {
    "name": "ipython",
    "version": 3
   },
   "file_extension": ".py",
   "mimetype": "text/x-python",
   "name": "python",
   "nbconvert_exporter": "python",
   "pygments_lexer": "ipython3",
   "version": "3.10.3"
  },
  "orig_nbformat": 4,
  "vscode": {
   "interpreter": {
    "hash": "070c1a25df3ffaebe7bc468c7dee56634dc7b85162fad3817ad677a27a330b87"
   }
  }
 },
 "nbformat": 4,
 "nbformat_minor": 2
}
